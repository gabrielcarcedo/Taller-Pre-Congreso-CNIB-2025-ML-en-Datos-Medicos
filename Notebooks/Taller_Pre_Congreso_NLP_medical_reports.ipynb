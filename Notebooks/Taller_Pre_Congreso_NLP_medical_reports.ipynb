{
  "nbformat": 4,
  "nbformat_minor": 0,
  "metadata": {
    "colab": {
      "provenance": [],
      "authorship_tag": "ABX9TyMcCD2JokZwJphuBc+/886C",
      "include_colab_link": true
    },
    "kernelspec": {
      "name": "python3",
      "display_name": "Python 3"
    },
    "language_info": {
      "name": "python"
    }
  },
  "cells": [
    {
      "cell_type": "markdown",
      "metadata": {
        "id": "view-in-github",
        "colab_type": "text"
      },
      "source": [
        "<a href=\"https://colab.research.google.com/github/gabrielcarcedo/Taller-Pre-Congreso-CNIB-2025-ML-en-Datos-Medicos/blob/main/Notebooks/Taller_Pre_Congreso_NLP_medical_reports.ipynb\" target=\"_parent\"><img src=\"https://colab.research.google.com/assets/colab-badge.svg\" alt=\"Open In Colab\"/></a>"
      ]
    },
    {
      "cell_type": "markdown",
      "source": [
        "# **Machine Learning para Procesamiento de Datos Médicos**\n",
        "---\n",
        "## Taller Pre-Congreso CNIB 2025\n",
        "---\n",
        "<table>\n",
        "  <tr>\n",
        "      <h4><b>ISC. Gabriel Carcedo Rodríguez</b> (<i>PCIC - IIMAS, UNAM</i>): <a href= \"mailto:gabrielcarcedo@comunidad.unam.mx\">gabrielcarcedo@comunidad.unam.mx</a>\n",
        "      <br>\n",
        "      <br>\n",
        "      <b>Ing. Ismael Pérez Ruiz</b> (<i>Universidad Modelo</i>): <a href= \"mailto:iperez@modelo.edu.mx\">iperez@modelo.edu.mx</a>\n",
        "      <br>\n",
        "      <br>\n",
        "      <b>LCC. Victoria May Balam</b> (<i>PCIC - IIMAS, UNAM</i>): <a href= \"mailto:victoria.mbalam@comunidad.unam.mx\">victoria.mbalam@comunidad.unam.mx</a> </h4>\n",
        "  </tr>\n",
        "  <tr>\n",
        "    <td width=\"60%\" valign=\"top\">\n",
        "      <!-- Content for Column 1 -->\n",
        "      <br>\n",
        "      <br>\n",
        "      <a href=\"https://www.pcic.unam.mx/\">Posgrado en Ciencia e Ingeniería de la Computación</a>\n",
        "    </td>\n",
        "    <td width=\"40%\" valign=\"top\" style=\"text-align: center;\">\n",
        "      <!-- Content for Column 2 -->\n",
        "      <a href=\"https://www.pcic.unam.mx/\">\n",
        "        <img src=\"https://pcic.posgrado.unam.mx/wp-content/uploads/Ciencia-e-Ingenieria-de-la-Computacion_color.png\" alt=\"PCIC\" style=\"width:100%; height:auto;\">\n",
        "      </a>\n",
        "    </td>\n",
        "  </tr>\n",
        "  <tr>\n",
        "    <td width=\"60%\" valign=\"top\">\n",
        "      <!-- Content for Column 1 -->\n",
        "      <br>\n",
        "      <br>\n",
        "      <a href=\"https://www.unimodelo.edu.mx/merida\">Universidad Modelo</a>\n",
        "    </td>\n",
        "    <td width=\"40%\" valign=\"top\" style=\"text-align: center;\">\n",
        "      <!-- Content for Column 2 -->\n",
        "      <a href=\"https://www.unimodelo.edu.mx/merida\">\n",
        "        <img src=\"https://servicios.unimodelo.edu.mx/merida/ing/practicas/resources/imgs/logo-modelo.png\" alt=\"Universidad Modelo\" style=\"width:100%; height:auto;\">\n",
        "      </a>\n",
        "    </td>\n",
        "  </tr>\n",
        "\n",
        "</table>\n",
        "\n",
        "\n",
        "Nota: Libreta inspirada en la clase de NLP en medical reports de la Dra. Helena Gómez Adorno y Diego Hernández Bustamante durante la Escuela Híbrida de Verano \"Medical Informatics with Artificial Intelligence\" *UNAM-TUBS*"
      ],
      "metadata": {
        "id": "jptMtMzE7JCx"
      }
    },
    {
      "cell_type": "code",
      "source": [
        "#@markdown # Install spaCy and Download Spanish Language Model\n",
        "!pip -q install spacy\n",
        "!python -m spacy download es_core_news_md"
      ],
      "metadata": {
        "id": "SU6wxC1XDvdQ"
      },
      "execution_count": null,
      "outputs": []
    },
    {
      "cell_type": "code",
      "source": [
        "# Using short Electronic Medical Report (EMR)\n",
        "emr = [\n",
        "\"\"\"Paciente mujer de 45 años. Niega fiebre. Refiere dolor torácico desde hace 2 días y disnea leve.\n",
        "Se indica paracetamol 500 mg cada 8 h. Examen: crepitantes en base pulmonar derecha.\"\"\",\n",
        "\"\"\"Varón de 62 años con DM2 en control. Sin tos ni cefalea. Se prescribe metformina 850 mg 2 veces al día.\n",
        "Dolor abdominal intermitente; descarta vómito. Amoxicilina 500 mg c/12h por 7 días.\"\"\",\n",
        "\"\"\"Paciente masculino 30 años. Faringitis; ibuprofeno 400mg cada 8h. Niega disnea. Ausencia de fiebre.\n",
        "Dolor en garganta y adenopatías cervicales.\"\"\"\n",
        "]\n",
        "\n",
        "# Ejemplo tomado de  la clase de NLP en medical reports de la Dra. Helena Gómez Adorno y Diego Hernández Bustamante durante la Escuela Híbrida de Verano\n",
        "# \"Medical Informatics with Artificial Intelligence\" *UNAM-TUBS*"
      ],
      "metadata": {
        "id": "5vxyt7a_70Nl"
      },
      "execution_count": null,
      "outputs": []
    },
    {
      "cell_type": "markdown",
      "source": [
        "# Building a simple **Named Entity Recognition (NER)** system without using machine learning models"
      ],
      "metadata": {
        "id": "73Zky_Pu8k5J"
      }
    },
    {
      "cell_type": "code",
      "source": [
        "# Import regex for pattern matching, json for data handling\n",
        "import re, json\n",
        "\n",
        "# Import spaCy for natural language processing\n",
        "import spacy\n",
        "\n",
        "# Import EntityRuler for custom entity recognition patterns\n",
        "from spacy.pipeline import EntityRuler\n",
        "\n",
        "# Load Spanish language model (medium size, excluding named entity recognition)\n",
        "nlp = spacy.load(\"es_core_news_md\",  exclude=[\"ner\"])"
      ],
      "metadata": {
        "id": "-ddBPpHG8Cpr"
      },
      "execution_count": null,
      "outputs": []
    },
    {
      "cell_type": "code",
      "source": [
        "# Define medical terminology lists\n",
        "\n",
        "MEDICAMENTOS = [\"paracetamol\",\"metformina\",\"amoxicilina\",\"ibuprofeno\",\"naproxeno\",\"omeprazol\"]  # Medications\n",
        "\n",
        "SINTOMAS = [\"fiebre\",\"tos\",\"cefalea\",\"disnea\",\"vómito\",\"dolor\",\"faringitis\",\"adenopatías\",\"náusea\"]  # Symptoms\n",
        "\n",
        "ANATOMIA = [\"pulmonar\",\"pulmón\",\"torácico\",\"garganta\",\"abdomen\",\"cervicales\",\"corazón\"]  # Anatomy terms"
      ],
      "metadata": {
        "id": "idfiJW-68t3h"
      },
      "execution_count": null,
      "outputs": []
    },
    {
      "cell_type": "code",
      "source": [
        "# Helper function to create entity patterns from word lists\n",
        "\n",
        "def dict_patterns(terms, label):\n",
        "    return [{\"label\": label, \"pattern\": [{\"LOWER\": t.lower()}]} for t in terms]"
      ],
      "metadata": {
        "id": "MBQGivPc81Pm"
      },
      "execution_count": null,
      "outputs": []
    },
    {
      "cell_type": "markdown",
      "source": [
        "## Patterns List"
      ],
      "metadata": {
        "id": "qZwN0CtP9dwp"
      }
    },
    {
      "cell_type": "code",
      "source": [
        "# Initialize patterns list\n",
        "patterns = []"
      ],
      "metadata": {
        "id": "di161P2186tT"
      },
      "execution_count": null,
      "outputs": []
    },
    {
      "cell_type": "code",
      "source": [
        "# Add medication patterns\n",
        "patterns += dict_patterns(MEDICAMENTOS, \"MEDICAMENTO\")\n",
        "patterns"
      ],
      "metadata": {
        "colab": {
          "base_uri": "https://localhost:8080/"
        },
        "id": "rbBVhKXM9C7t",
        "outputId": "4a34fc24-64b9-4eed-802e-48cb96643589"
      },
      "execution_count": null,
      "outputs": [
        {
          "output_type": "execute_result",
          "data": {
            "text/plain": [
              "[{'label': 'MEDICAMENTO', 'pattern': [{'LOWER': 'paracetamol'}]},\n",
              " {'label': 'MEDICAMENTO', 'pattern': [{'LOWER': 'metformina'}]},\n",
              " {'label': 'MEDICAMENTO', 'pattern': [{'LOWER': 'amoxicilina'}]},\n",
              " {'label': 'MEDICAMENTO', 'pattern': [{'LOWER': 'ibuprofeno'}]},\n",
              " {'label': 'MEDICAMENTO', 'pattern': [{'LOWER': 'naproxeno'}]},\n",
              " {'label': 'MEDICAMENTO', 'pattern': [{'LOWER': 'omeprazol'}]}]"
            ]
          },
          "metadata": {},
          "execution_count": 7
        }
      ]
    },
    {
      "cell_type": "code",
      "source": [
        "# Add dosage patterns (e.g., \"500 mg\")\n",
        "patterns += [{\"label\":\"DOSIS\", \"pattern\": [{\"TEXT\":{\"REGEX\": r\"^\\d+(\\.\\d+)?$\"}},{\"LOWER\":{\"IN\":[\"mg\",\"ml\",\"mcg\"]}}]}]\n",
        "patterns"
      ],
      "metadata": {
        "colab": {
          "base_uri": "https://localhost:8080/"
        },
        "id": "ygWsdiMs9FkZ",
        "outputId": "233df59c-60cc-4f2d-a101-5259ae02aa84"
      },
      "execution_count": null,
      "outputs": [
        {
          "output_type": "execute_result",
          "data": {
            "text/plain": [
              "[{'label': 'MEDICAMENTO', 'pattern': [{'LOWER': 'paracetamol'}]},\n",
              " {'label': 'MEDICAMENTO', 'pattern': [{'LOWER': 'metformina'}]},\n",
              " {'label': 'MEDICAMENTO', 'pattern': [{'LOWER': 'amoxicilina'}]},\n",
              " {'label': 'MEDICAMENTO', 'pattern': [{'LOWER': 'ibuprofeno'}]},\n",
              " {'label': 'MEDICAMENTO', 'pattern': [{'LOWER': 'naproxeno'}]},\n",
              " {'label': 'MEDICAMENTO', 'pattern': [{'LOWER': 'omeprazol'}]},\n",
              " {'label': 'DOSIS',\n",
              "  'pattern': [{'TEXT': {'REGEX': '^\\\\d+(\\\\.\\\\d+)?$'}},\n",
              "   {'LOWER': {'IN': ['mg', 'ml', 'mcg']}}]}]"
            ]
          },
          "metadata": {},
          "execution_count": 8
        }
      ]
    },
    {
      "cell_type": "code",
      "source": [
        "# Add dosage patterns without space (e.g., \"400mg\")\n",
        "patterns += [{\"label\":\"DOSIS\", \"pattern\": [{\"TEXT\":{\"REGEX\": r\"^\\d+(\\.\\d+)?(mg|ml|mcg)$\"}}]}]\n",
        "patterns"
      ],
      "metadata": {
        "colab": {
          "base_uri": "https://localhost:8080/"
        },
        "id": "wnOPZswj9JAg",
        "outputId": "90061cf3-e8bc-49d1-b9c1-9bdda01eb792"
      },
      "execution_count": null,
      "outputs": [
        {
          "output_type": "execute_result",
          "data": {
            "text/plain": [
              "[{'label': 'MEDICAMENTO', 'pattern': [{'LOWER': 'paracetamol'}]},\n",
              " {'label': 'MEDICAMENTO', 'pattern': [{'LOWER': 'metformina'}]},\n",
              " {'label': 'MEDICAMENTO', 'pattern': [{'LOWER': 'amoxicilina'}]},\n",
              " {'label': 'MEDICAMENTO', 'pattern': [{'LOWER': 'ibuprofeno'}]},\n",
              " {'label': 'MEDICAMENTO', 'pattern': [{'LOWER': 'naproxeno'}]},\n",
              " {'label': 'MEDICAMENTO', 'pattern': [{'LOWER': 'omeprazol'}]},\n",
              " {'label': 'DOSIS',\n",
              "  'pattern': [{'TEXT': {'REGEX': '^\\\\d+(\\\\.\\\\d+)?$'}},\n",
              "   {'LOWER': {'IN': ['mg', 'ml', 'mcg']}}]},\n",
              " {'label': 'DOSIS',\n",
              "  'pattern': [{'TEXT': {'REGEX': '^\\\\d+(\\\\.\\\\d+)?(mg|ml|mcg)$'}}]}]"
            ]
          },
          "metadata": {},
          "execution_count": 9
        }
      ]
    },
    {
      "cell_type": "code",
      "source": [
        "# Add frequency patterns (e.g., \"cada 8 horas\")\n",
        "patterns += [{\"label\":\"FRECUENCIA\", \"pattern\": [{\"LOWER\":{\"IN\":[\"cada\",\"c/\",\"veces\"]}}, {\"IS_ALPHA\": True, \"OP\":\"*\"}]}]\n",
        "patterns"
      ],
      "metadata": {
        "colab": {
          "base_uri": "https://localhost:8080/"
        },
        "id": "_3RgIEfm9NcP",
        "outputId": "81e36fd7-c0b8-4e7e-b83a-2373b58bf997"
      },
      "execution_count": null,
      "outputs": [
        {
          "output_type": "execute_result",
          "data": {
            "text/plain": [
              "[{'label': 'MEDICAMENTO', 'pattern': [{'LOWER': 'paracetamol'}]},\n",
              " {'label': 'MEDICAMENTO', 'pattern': [{'LOWER': 'metformina'}]},\n",
              " {'label': 'MEDICAMENTO', 'pattern': [{'LOWER': 'amoxicilina'}]},\n",
              " {'label': 'MEDICAMENTO', 'pattern': [{'LOWER': 'ibuprofeno'}]},\n",
              " {'label': 'MEDICAMENTO', 'pattern': [{'LOWER': 'naproxeno'}]},\n",
              " {'label': 'MEDICAMENTO', 'pattern': [{'LOWER': 'omeprazol'}]},\n",
              " {'label': 'DOSIS',\n",
              "  'pattern': [{'TEXT': {'REGEX': '^\\\\d+(\\\\.\\\\d+)?$'}},\n",
              "   {'LOWER': {'IN': ['mg', 'ml', 'mcg']}}]},\n",
              " {'label': 'DOSIS',\n",
              "  'pattern': [{'TEXT': {'REGEX': '^\\\\d+(\\\\.\\\\d+)?(mg|ml|mcg)$'}}]},\n",
              " {'label': 'FRECUENCIA',\n",
              "  'pattern': [{'LOWER': {'IN': ['cada', 'c/', 'veces']}},\n",
              "   {'IS_ALPHA': True, 'OP': '*'}]}]"
            ]
          },
          "metadata": {},
          "execution_count": 10
        }
      ]
    },
    {
      "cell_type": "code",
      "source": [
        "# Add symptom patterns\n",
        "patterns += dict_patterns(SINTOMAS, \"SINTOMA\")\n",
        "patterns"
      ],
      "metadata": {
        "colab": {
          "base_uri": "https://localhost:8080/"
        },
        "id": "a_f_jnMs9RKp",
        "outputId": "af46aba0-918c-4958-99ad-a4ab5bc07127"
      },
      "execution_count": null,
      "outputs": [
        {
          "output_type": "execute_result",
          "data": {
            "text/plain": [
              "[{'label': 'MEDICAMENTO', 'pattern': [{'LOWER': 'paracetamol'}]},\n",
              " {'label': 'MEDICAMENTO', 'pattern': [{'LOWER': 'metformina'}]},\n",
              " {'label': 'MEDICAMENTO', 'pattern': [{'LOWER': 'amoxicilina'}]},\n",
              " {'label': 'MEDICAMENTO', 'pattern': [{'LOWER': 'ibuprofeno'}]},\n",
              " {'label': 'MEDICAMENTO', 'pattern': [{'LOWER': 'naproxeno'}]},\n",
              " {'label': 'MEDICAMENTO', 'pattern': [{'LOWER': 'omeprazol'}]},\n",
              " {'label': 'DOSIS',\n",
              "  'pattern': [{'TEXT': {'REGEX': '^\\\\d+(\\\\.\\\\d+)?$'}},\n",
              "   {'LOWER': {'IN': ['mg', 'ml', 'mcg']}}]},\n",
              " {'label': 'DOSIS',\n",
              "  'pattern': [{'TEXT': {'REGEX': '^\\\\d+(\\\\.\\\\d+)?(mg|ml|mcg)$'}}]},\n",
              " {'label': 'FRECUENCIA',\n",
              "  'pattern': [{'LOWER': {'IN': ['cada', 'c/', 'veces']}},\n",
              "   {'IS_ALPHA': True, 'OP': '*'}]},\n",
              " {'label': 'SINTOMA', 'pattern': [{'LOWER': 'fiebre'}]},\n",
              " {'label': 'SINTOMA', 'pattern': [{'LOWER': 'tos'}]},\n",
              " {'label': 'SINTOMA', 'pattern': [{'LOWER': 'cefalea'}]},\n",
              " {'label': 'SINTOMA', 'pattern': [{'LOWER': 'disnea'}]},\n",
              " {'label': 'SINTOMA', 'pattern': [{'LOWER': 'vómito'}]},\n",
              " {'label': 'SINTOMA', 'pattern': [{'LOWER': 'dolor'}]},\n",
              " {'label': 'SINTOMA', 'pattern': [{'LOWER': 'faringitis'}]},\n",
              " {'label': 'SINTOMA', 'pattern': [{'LOWER': 'adenopatías'}]},\n",
              " {'label': 'SINTOMA', 'pattern': [{'LOWER': 'náusea'}]}]"
            ]
          },
          "metadata": {},
          "execution_count": 11
        }
      ]
    },
    {
      "cell_type": "code",
      "source": [
        "# Add anatomy patterns\n",
        "patterns += dict_patterns(ANATOMIA, \"ANATOMIA\")\n",
        "patterns"
      ],
      "metadata": {
        "colab": {
          "base_uri": "https://localhost:8080/"
        },
        "id": "fmSIvrYn9TL9",
        "outputId": "088b1f0b-ad00-4533-ed1c-c46f73b3f90c"
      },
      "execution_count": null,
      "outputs": [
        {
          "output_type": "execute_result",
          "data": {
            "text/plain": [
              "[{'label': 'MEDICAMENTO', 'pattern': [{'LOWER': 'paracetamol'}]},\n",
              " {'label': 'MEDICAMENTO', 'pattern': [{'LOWER': 'metformina'}]},\n",
              " {'label': 'MEDICAMENTO', 'pattern': [{'LOWER': 'amoxicilina'}]},\n",
              " {'label': 'MEDICAMENTO', 'pattern': [{'LOWER': 'ibuprofeno'}]},\n",
              " {'label': 'MEDICAMENTO', 'pattern': [{'LOWER': 'naproxeno'}]},\n",
              " {'label': 'MEDICAMENTO', 'pattern': [{'LOWER': 'omeprazol'}]},\n",
              " {'label': 'DOSIS',\n",
              "  'pattern': [{'TEXT': {'REGEX': '^\\\\d+(\\\\.\\\\d+)?$'}},\n",
              "   {'LOWER': {'IN': ['mg', 'ml', 'mcg']}}]},\n",
              " {'label': 'DOSIS',\n",
              "  'pattern': [{'TEXT': {'REGEX': '^\\\\d+(\\\\.\\\\d+)?(mg|ml|mcg)$'}}]},\n",
              " {'label': 'FRECUENCIA',\n",
              "  'pattern': [{'LOWER': {'IN': ['cada', 'c/', 'veces']}},\n",
              "   {'IS_ALPHA': True, 'OP': '*'}]},\n",
              " {'label': 'SINTOMA', 'pattern': [{'LOWER': 'fiebre'}]},\n",
              " {'label': 'SINTOMA', 'pattern': [{'LOWER': 'tos'}]},\n",
              " {'label': 'SINTOMA', 'pattern': [{'LOWER': 'cefalea'}]},\n",
              " {'label': 'SINTOMA', 'pattern': [{'LOWER': 'disnea'}]},\n",
              " {'label': 'SINTOMA', 'pattern': [{'LOWER': 'vómito'}]},\n",
              " {'label': 'SINTOMA', 'pattern': [{'LOWER': 'dolor'}]},\n",
              " {'label': 'SINTOMA', 'pattern': [{'LOWER': 'faringitis'}]},\n",
              " {'label': 'SINTOMA', 'pattern': [{'LOWER': 'adenopatías'}]},\n",
              " {'label': 'SINTOMA', 'pattern': [{'LOWER': 'náusea'}]},\n",
              " {'label': 'ANATOMIA', 'pattern': [{'LOWER': 'pulmonar'}]},\n",
              " {'label': 'ANATOMIA', 'pattern': [{'LOWER': 'pulmón'}]},\n",
              " {'label': 'ANATOMIA', 'pattern': [{'LOWER': 'torácico'}]},\n",
              " {'label': 'ANATOMIA', 'pattern': [{'LOWER': 'garganta'}]},\n",
              " {'label': 'ANATOMIA', 'pattern': [{'LOWER': 'abdomen'}]},\n",
              " {'label': 'ANATOMIA', 'pattern': [{'LOWER': 'cervicales'}]},\n",
              " {'label': 'ANATOMIA', 'pattern': [{'LOWER': 'corazón'}]}]"
            ]
          },
          "metadata": {},
          "execution_count": 12
        }
      ]
    },
    {
      "cell_type": "code",
      "source": [
        "# Add specific finding pattern\n",
        "patterns += [{\"label\":\"HALLAZGO\",\"pattern\":\"crepitantes\"}]  # Medical finding: \"crepitantes\" (crackles)\n",
        "patterns"
      ],
      "metadata": {
        "colab": {
          "base_uri": "https://localhost:8080/"
        },
        "id": "zExWcK7p9VXV",
        "outputId": "80b19da1-e52f-4ccd-a79e-84fbcc79127f"
      },
      "execution_count": null,
      "outputs": [
        {
          "output_type": "execute_result",
          "data": {
            "text/plain": [
              "[{'label': 'MEDICAMENTO', 'pattern': [{'LOWER': 'paracetamol'}]},\n",
              " {'label': 'MEDICAMENTO', 'pattern': [{'LOWER': 'metformina'}]},\n",
              " {'label': 'MEDICAMENTO', 'pattern': [{'LOWER': 'amoxicilina'}]},\n",
              " {'label': 'MEDICAMENTO', 'pattern': [{'LOWER': 'ibuprofeno'}]},\n",
              " {'label': 'MEDICAMENTO', 'pattern': [{'LOWER': 'naproxeno'}]},\n",
              " {'label': 'MEDICAMENTO', 'pattern': [{'LOWER': 'omeprazol'}]},\n",
              " {'label': 'DOSIS',\n",
              "  'pattern': [{'TEXT': {'REGEX': '^\\\\d+(\\\\.\\\\d+)?$'}},\n",
              "   {'LOWER': {'IN': ['mg', 'ml', 'mcg']}}]},\n",
              " {'label': 'DOSIS',\n",
              "  'pattern': [{'TEXT': {'REGEX': '^\\\\d+(\\\\.\\\\d+)?(mg|ml|mcg)$'}}]},\n",
              " {'label': 'FRECUENCIA',\n",
              "  'pattern': [{'LOWER': {'IN': ['cada', 'c/', 'veces']}},\n",
              "   {'IS_ALPHA': True, 'OP': '*'}]},\n",
              " {'label': 'SINTOMA', 'pattern': [{'LOWER': 'fiebre'}]},\n",
              " {'label': 'SINTOMA', 'pattern': [{'LOWER': 'tos'}]},\n",
              " {'label': 'SINTOMA', 'pattern': [{'LOWER': 'cefalea'}]},\n",
              " {'label': 'SINTOMA', 'pattern': [{'LOWER': 'disnea'}]},\n",
              " {'label': 'SINTOMA', 'pattern': [{'LOWER': 'vómito'}]},\n",
              " {'label': 'SINTOMA', 'pattern': [{'LOWER': 'dolor'}]},\n",
              " {'label': 'SINTOMA', 'pattern': [{'LOWER': 'faringitis'}]},\n",
              " {'label': 'SINTOMA', 'pattern': [{'LOWER': 'adenopatías'}]},\n",
              " {'label': 'SINTOMA', 'pattern': [{'LOWER': 'náusea'}]},\n",
              " {'label': 'ANATOMIA', 'pattern': [{'LOWER': 'pulmonar'}]},\n",
              " {'label': 'ANATOMIA', 'pattern': [{'LOWER': 'pulmón'}]},\n",
              " {'label': 'ANATOMIA', 'pattern': [{'LOWER': 'torácico'}]},\n",
              " {'label': 'ANATOMIA', 'pattern': [{'LOWER': 'garganta'}]},\n",
              " {'label': 'ANATOMIA', 'pattern': [{'LOWER': 'abdomen'}]},\n",
              " {'label': 'ANATOMIA', 'pattern': [{'LOWER': 'cervicales'}]},\n",
              " {'label': 'ANATOMIA', 'pattern': [{'LOWER': 'corazón'}]},\n",
              " {'label': 'HALLAZGO', 'pattern': 'crepitantes'}]"
            ]
          },
          "metadata": {},
          "execution_count": 13
        }
      ]
    },
    {
      "cell_type": "markdown",
      "source": [
        "## Entity Ruler to spaCy pipeline"
      ],
      "metadata": {
        "id": "QB4QJcuV9lgi"
      }
    },
    {
      "cell_type": "code",
      "source": [
        "# Add custom entity ruler to spaCy pipeline, overwriting existing entities\n",
        "ruler = nlp.add_pipe(\"entity_ruler\", config={\"overwrite_ents\": True})\n",
        "\n",
        "# Register all defined patterns with the entity ruler\n",
        "ruler.add_patterns(patterns)\n",
        "\n",
        "print(ruler)"
      ],
      "metadata": {
        "colab": {
          "base_uri": "https://localhost:8080/"
        },
        "id": "lcbwYfVP9W-k",
        "outputId": "e8be0dbf-f89d-4508-8bac-63b77b96efc8"
      },
      "execution_count": null,
      "outputs": [
        {
          "output_type": "stream",
          "name": "stdout",
          "text": [
            "<spacy.pipeline.entityruler.EntityRuler object at 0x7fe6274a6050>\n"
          ]
        }
      ]
    },
    {
      "cell_type": "markdown",
      "source": [
        "# Process each document in the **'emr'** collection"
      ],
      "metadata": {
        "id": "g5FVDQOe9-uo"
      }
    },
    {
      "cell_type": "code",
      "source": [
        "for i, txt in enumerate(emr, 1):  # Start enumeration at 1\n",
        "    # Apply NLP pipeline to text\n",
        "    doc = nlp(txt)\n",
        "\n",
        "    # Print document header\n",
        "    print(f\"\\n--- DOC {i} ---\\n{txt}\\n\")\n",
        "\n",
        "    # Print all identified entities with their positions\n",
        "    for ent in doc.ents:\n",
        "      print(f\"{ent.text} ({ent.label_}) [{ent.start_char}, {ent.end_char}]\")"
      ],
      "metadata": {
        "colab": {
          "base_uri": "https://localhost:8080/"
        },
        "id": "2FxBsExF9rxm",
        "outputId": "374bc3d1-5158-4021-a265-52fef5acc514"
      },
      "execution_count": null,
      "outputs": [
        {
          "output_type": "stream",
          "name": "stdout",
          "text": [
            "\n",
            "--- DOC 1 ---\n",
            "Paciente mujer de 45 años. Niega fiebre. Refiere dolor torácico desde hace 2 días y disnea leve.\n",
            "Se indica paracetamol 500 mg cada 8 h. Examen: crepitantes en base pulmonar derecha.\n",
            "\n",
            "fiebre (SINTOMA) [33, 39]\n",
            "dolor (SINTOMA) [49, 54]\n",
            "torácico (ANATOMIA) [55, 63]\n",
            "disnea (SINTOMA) [84, 90]\n",
            "paracetamol (MEDICAMENTO) [107, 118]\n",
            "500 mg (DOSIS) [119, 125]\n",
            "cada (FRECUENCIA) [126, 130]\n",
            "crepitantes (HALLAZGO) [144, 155]\n",
            "pulmonar (ANATOMIA) [164, 172]\n",
            "\n",
            "--- DOC 2 ---\n",
            "Varón de 62 años con DM2 en control. Sin tos ni cefalea. Se prescribe metformina 850 mg 2 veces al día.\n",
            "Dolor abdominal intermitente; descarta vómito. Amoxicilina 500 mg c/12h por 7 días.\n",
            "\n",
            "tos (SINTOMA) [41, 44]\n",
            "cefalea (SINTOMA) [48, 55]\n",
            "metformina (MEDICAMENTO) [70, 80]\n",
            "850 mg (DOSIS) [81, 87]\n",
            "veces al día (FRECUENCIA) [90, 102]\n",
            "Dolor (SINTOMA) [104, 109]\n",
            "vómito (SINTOMA) [143, 149]\n",
            "Amoxicilina (MEDICAMENTO) [151, 162]\n",
            "500 mg (DOSIS) [163, 169]\n",
            "\n",
            "--- DOC 3 ---\n",
            "Paciente masculino 30 años. Faringitis; ibuprofeno 400mg cada 8h. Niega disnea. Ausencia de fiebre.\n",
            "Dolor en garganta y adenopatías cervicales.\n",
            "\n",
            "Faringitis (SINTOMA) [28, 38]\n",
            "ibuprofeno (MEDICAMENTO) [40, 50]\n",
            "400mg (DOSIS) [51, 56]\n",
            "cada (FRECUENCIA) [57, 61]\n",
            "disnea (SINTOMA) [72, 78]\n",
            "fiebre (SINTOMA) [92, 98]\n",
            "Dolor (SINTOMA) [100, 105]\n",
            "garganta (ANATOMIA) [109, 117]\n",
            "adenopatías (SINTOMA) [120, 131]\n",
            "cervicales (ANATOMIA) [132, 142]\n"
          ]
        }
      ]
    },
    {
      "cell_type": "markdown",
      "source": [
        "# Enhancement the extracted information with context and relations"
      ],
      "metadata": {
        "id": "-G6pZ33q-Xz1"
      }
    },
    {
      "cell_type": "code",
      "source": [
        "# Negation detection: Identify if a symptom or finding is explicitly negated (e.g., “niega fiebre” → Fever = NEGATED).\n",
        "\n",
        "NEG_CUES = [\"no\", \"sin\", \"niega\", \"descarta\", \"ausencia de\", \"niega tener\", \"no refiere\"]"
      ],
      "metadata": {
        "id": "gPYwIA7G-QY0"
      },
      "execution_count": null,
      "outputs": []
    },
    {
      "cell_type": "code",
      "source": [
        "def detect_negation(doc, NEG_CUES, target_labels=(\"SINTOMA\",\"HALLAZGO\",\"PROBLEMA\")):\n",
        "    results = []\n",
        "    for ent in doc.ents:\n",
        "        if ent.label_ in target_labels:\n",
        "            # Look back up to 5 tokens in the same sentence for a negation cue\n",
        "            sent = ent.sent\n",
        "            window = doc[ max(sent.start, ent.start-5) : ent.start ].text.lower()\n",
        "            negated = any(cue in window for cue in NEG_CUES)\n",
        "            results.append({\n",
        "                \"text\": ent.text,\n",
        "                \"label\": ent.label_,\n",
        "                \"start\": ent.start_char,\n",
        "                \"end\": ent.end_char,\n",
        "                \"negated\": negated\n",
        "            })\n",
        "    return results"
      ],
      "metadata": {
        "id": "EuTYbBNO-gqW"
      },
      "execution_count": null,
      "outputs": []
    },
    {
      "cell_type": "code",
      "source": [
        "def link_med_dose(doc, max_window=8):\n",
        "    pairs = []\n",
        "    meds = [e for e in doc.ents if e.label_==\"MEDICAMENTO\"]\n",
        "    doses = [e for e in doc.ents if e.label_==\"DOSIS\"]\n",
        "    freqs = [e for e in doc.ents if e.label_==\"FRECUENCIA\"]\n",
        "    for med in meds:\n",
        "        # choose nearest dose in same sentence within window\n",
        "        cand = [(dose, abs(dose.start - med.start)) for dose in doses if dose.sent == med.sent and abs(dose.start - med.start) <= max_window]\n",
        "        if cand:\n",
        "            dose = sorted(cand, key=lambda x: x[1])[0][0]\n",
        "            # optional: attach nearest frequency cue\n",
        "            f_cand = [(f, abs(f.start - med.start)) for f in freqs if f.sent == med.sent and abs(f.start - med.start) <= max_window]\n",
        "            freq = sorted(f_cand, key=lambda x: x[1])[0][0].text if f_cand else \"\"\n",
        "            ctx = med.sent.text\n",
        "            pairs.append((med.text, dose.text, freq or \"\"))\n",
        "    return pairs"
      ],
      "metadata": {
        "id": "1eUFgsoH-lCE"
      },
      "execution_count": null,
      "outputs": []
    },
    {
      "cell_type": "code",
      "source": [
        "for i, txt in enumerate(emr, 1):\n",
        "    doc = nlp(txt)\n",
        "    neg = detect_negation(doc,NEG_CUES)\n",
        "    rel = link_med_dose(doc)\n",
        "\n",
        "    print(f\"\\n=== DOC {i} ===\")\n",
        "    print(\"Negation over symptoms/findings:\")\n",
        "    for x in neg:\n",
        "        flag = \"NEGADO\" if x[\"negated\"] else \"AFIRMADO\"\n",
        "        print(f\"  - {x['text']} ({x['label']}) → {flag}\")\n",
        "\n",
        "    print(\"\\nMedication–Dose(–Freq) pairs:\")\n",
        "    for med, dose, freq in rel:\n",
        "        print(f\"  - {med} ↔ {dose}\" + (f\" ↔ {freq}\" if freq else \"\"))"
      ],
      "metadata": {
        "colab": {
          "base_uri": "https://localhost:8080/"
        },
        "id": "jj4uWNRT-m6y",
        "outputId": "63bbde7e-7127-49f9-e16b-cc821e36c939"
      },
      "execution_count": null,
      "outputs": [
        {
          "output_type": "stream",
          "name": "stdout",
          "text": [
            "\n",
            "=== DOC 1 ===\n",
            "Negation over symptoms/findings:\n",
            "  - fiebre (SINTOMA) → NEGADO\n",
            "  - dolor (SINTOMA) → AFIRMADO\n",
            "  - disnea (SINTOMA) → AFIRMADO\n",
            "  - crepitantes (HALLAZGO) → AFIRMADO\n",
            "\n",
            "Medication–Dose(–Freq) pairs:\n",
            "  - paracetamol ↔ 500 mg ↔ cada\n",
            "\n",
            "=== DOC 2 ===\n",
            "Negation over symptoms/findings:\n",
            "  - tos (SINTOMA) → NEGADO\n",
            "  - cefalea (SINTOMA) → NEGADO\n",
            "  - Dolor (SINTOMA) → AFIRMADO\n",
            "  - vómito (SINTOMA) → NEGADO\n",
            "\n",
            "Medication–Dose(–Freq) pairs:\n",
            "  - metformina ↔ 850 mg ↔ veces al día\n",
            "  - Amoxicilina ↔ 500 mg\n",
            "\n",
            "=== DOC 3 ===\n",
            "Negation over symptoms/findings:\n",
            "  - Faringitis (SINTOMA) → AFIRMADO\n",
            "  - disnea (SINTOMA) → NEGADO\n",
            "  - fiebre (SINTOMA) → NEGADO\n",
            "  - Dolor (SINTOMA) → AFIRMADO\n",
            "  - adenopatías (SINTOMA) → AFIRMADO\n",
            "\n",
            "Medication–Dose(–Freq) pairs:\n",
            "  - ibuprofeno ↔ 400mg ↔ cada\n"
          ]
        }
      ]
    },
    {
      "cell_type": "markdown",
      "source": [
        "# Building a **Named Entity Recognition (NER)** system with Transformers\n",
        "\n",
        "## Spanish BERT-based model from Huggingface"
      ],
      "metadata": {
        "id": "fpafTpYD-3Qa"
      }
    },
    {
      "cell_type": "code",
      "source": [
        "!pip -q install transformers torch accelerate"
      ],
      "metadata": {
        "id": "Iuw2U-yI-ti0"
      },
      "execution_count": null,
      "outputs": []
    },
    {
      "cell_type": "markdown",
      "source": [
        "## Load the model"
      ],
      "metadata": {
        "id": "gKKYtCRN_Les"
      }
    },
    {
      "cell_type": "code",
      "source": [
        "from transformers import pipeline\n",
        "\n",
        "pipe = pipeline(\"token-classification\", model=\"lcampillos/roberta-es-clinical-trials-ner\")\n"
      ],
      "metadata": {
        "id": "MM7c_rUODzr2"
      },
      "execution_count": null,
      "outputs": []
    },
    {
      "cell_type": "code",
      "source": [
        "for i, txt in enumerate(emr, 1):\n",
        "  print(f\"\\n=== DOC {i} ===\")\n",
        "  results = pipe(txt)\n",
        "  for ent in results:\n",
        "    text = ent[\"word\"].replace('Ġ','')\n",
        "    text = text.replace('Ã¡','á')\n",
        "    text = text.replace('Ã³','ó')\n",
        "    text = text.replace('ÃŃ','ó')\n",
        "    print(f\"{text:<15} → {ent['entity'].split('-')[1]}\")"
      ],
      "metadata": {
        "colab": {
          "base_uri": "https://localhost:8080/"
        },
        "id": "EDkXgaYo_Ogv",
        "outputId": "172ff349-99c3-4cc1-8517-713586dd0bf2"
      },
      "execution_count": null,
      "outputs": [
        {
          "output_type": "stream",
          "name": "stdout",
          "text": [
            "\n",
            "=== DOC 1 ===\n",
            "fiebre          → DISO\n",
            "dolor           → DISO\n",
            "torácico        → DISO\n",
            "disnea          → DISO\n",
            "paracetamol     → CHEM\n",
            "crepitantes     → DISO\n",
            "base            → ANAT\n",
            "pulmonar        → ANAT\n",
            "\n",
            "=== DOC 2 ===\n",
            "DM              → DISO\n",
            "2               → DISO\n",
            "tos             → DISO\n",
            "cefalea         → DISO\n",
            "metformina      → CHEM\n",
            "850             → CHEM\n",
            "Dolor           → DISO\n",
            "abdominal       → DISO\n",
            "vómito          → DISO\n",
            "Amoxicilina     → CHEM\n",
            "500             → CHEM\n",
            "\n",
            "=== DOC 3 ===\n",
            "Far             → DISO\n",
            "ingitis         → DISO\n",
            "ibuprofeno      → CHEM\n",
            "disnea          → DISO\n",
            "fiebre          → DISO\n",
            "Dolor           → DISO\n",
            "en              → DISO\n",
            "garganta        → DISO\n",
            "adenopatóas     → DISO\n",
            "cervicales      → DISO\n"
          ]
        }
      ]
    },
    {
      "cell_type": "markdown",
      "source": [
        "# Using **Large Language Models (LLMs)** with **Google Gemini**"
      ],
      "metadata": {
        "id": "BZh86pxJB96f"
      }
    },
    {
      "cell_type": "code",
      "source": [
        "from google.colab import userdata\n",
        "from google import genai"
      ],
      "metadata": {
        "id": "oCHgvMJxBU7h"
      },
      "execution_count": null,
      "outputs": []
    },
    {
      "cell_type": "code",
      "source": [
        "import os\n",
        "os.environ[\"GEMINI_API_KEY\"] = \"YOUR_API_KEY\"\n",
        "\n",
        "# The client gets the API key from the environment variable `GEMINI_API_KEY`.\n",
        "#client = genai.Client(api_key=userdata.get('gemini_key'))\n",
        "client = genai.Client(api_key=\"YOUR_API_KEY\")"
      ],
      "metadata": {
        "id": "9EHMRjOCCL-V"
      },
      "execution_count": null,
      "outputs": []
    },
    {
      "cell_type": "code",
      "source": [
        "# Poner prompt en Español\n",
        "context = \"\"\"Given the following texts, return medical entities you could find, classify them in 4 semantic groups:\n",
        "  ANAT: body parts and anatomy (e.g. garganta, 'throat')\n",
        "  CHEM: chemical entities and pharmacological substances (e.g. aspirina,'aspirin')\n",
        "  DISO: pathologic conditions (e.g. dolor, 'pain')\n",
        "  PROC: diagnostic and therapeutic procedures, laboratory analyses and medical research activities (e.g. cirugía, 'surgery')\"\"\"\n",
        "\n",
        "# Algunas configuraciones\n",
        "safety_settings = [{\"category\": \"HARM_CATEGORY_DANGEROUS\", \"threshold\": \"BLOCK_NONE\"},\n",
        "    {\"category\": \"HARM_CATEGORY_HARASSMENT\", \"threshold\": \"BLOCK_NONE\"},\n",
        "    {\"category\": \"HARM_CATEGORY_HATE_SPEECH\", \"threshold\": \"BLOCK_NONE\"},\n",
        "    {\"category\": \"HARM_CATEGORY_SEXUALLY_EXPLICIT\", \"threshold\": \"BLOCK_NONE\"},\n",
        "    {\"category\": \"HARM_CATEGORY_DANGEROUS_CONTENT\", \"threshold\": \"BLOCK_NONE\"}]\n"
      ],
      "metadata": {
        "id": "ZIcUQWo6C2YQ"
      },
      "execution_count": null,
      "outputs": []
    },
    {
      "cell_type": "code",
      "source": [
        "for txt in emr:\n",
        "  response = client.models.generate_content(\n",
        "      model=\"gemini-2.5-flash\",\n",
        "      contents=context + '\\n' + txt\n",
        "  )\n",
        "  print('\\n\\n' + response.text)"
      ],
      "metadata": {
        "colab": {
          "base_uri": "https://localhost:8080/"
        },
        "id": "JmaCm3scDKrN",
        "outputId": "b05f67a2-6714-4c19-b0c9-4512e676caff"
      },
      "execution_count": null,
      "outputs": [
        {
          "output_type": "stream",
          "name": "stdout",
          "text": [
            "\n",
            "\n",
            "Here are the medical entities found in the text, classified into the specified semantic groups:\n",
            "\n",
            "*   **ANAT**:\n",
            "    *   base pulmonar (lung base)\n",
            "*   **CHEM**:\n",
            "    *   paracetamol\n",
            "*   **DISO**:\n",
            "    *   fiebre (fever)\n",
            "    *   dolor torácico (chest pain)\n",
            "    *   disnea (dyspnea)\n",
            "    *   crepitantes (crackles/crepitations)\n",
            "*   **PROC**:\n",
            "    *   Examen (examination)\n",
            "\n",
            "\n",
            "Here are the medical entities found in the texts, classified into the specified semantic groups:\n",
            "\n",
            "*   **ANAT**:\n",
            "    *   (None found)\n",
            "*   **CHEM**:\n",
            "    *   metformina\n",
            "    *   Amoxicilina\n",
            "*   **DISO**:\n",
            "    *   DM2 (Diabetes Mellitus tipo 2)\n",
            "    *   tos\n",
            "    *   cefalea\n",
            "    *   Dolor abdominal\n",
            "    *   vómito\n",
            "*   **PROC**:\n",
            "    *   (None found)\n",
            "\n",
            "\n",
            "Here are the medical entities found in the text, classified into the specified semantic groups:\n",
            "\n",
            "**ANAT:**\n",
            "*   garganta (throat)\n",
            "\n",
            "**CHEM:**\n",
            "*   ibuprofeno (ibuprofen)\n",
            "\n",
            "**DISO:**\n",
            "*   Faringitis (Pharyngitis)\n",
            "*   disnea (dyspnea)\n",
            "*   fiebre (fever)\n",
            "*   Dolor (pain)\n",
            "*   adenopatías cervicales (cervical lymphadenopathy / swollen cervical lymph nodes)\n",
            "\n",
            "**PROC:**\n",
            "*   (None found)\n"
          ]
        }
      ]
    },
    {
      "cell_type": "code",
      "source": [],
      "metadata": {
        "id": "PZCzeDhkDOlf"
      },
      "execution_count": null,
      "outputs": []
    }
  ]
}