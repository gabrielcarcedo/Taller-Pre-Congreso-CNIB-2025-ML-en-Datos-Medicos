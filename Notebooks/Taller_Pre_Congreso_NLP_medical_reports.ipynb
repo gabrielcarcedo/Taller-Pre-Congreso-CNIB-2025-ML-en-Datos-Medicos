{
  "nbformat": 4,
  "nbformat_minor": 0,
  "metadata": {
    "colab": {
      "provenance": [],
      "authorship_tag": "ABX9TyP07zFMl250ubPC6aMDEtnj",
      "include_colab_link": true
    },
    "kernelspec": {
      "name": "python3",
      "display_name": "Python 3"
    },
    "language_info": {
      "name": "python"
    },
    "widgets": {
      "application/vnd.jupyter.widget-state+json": {
        "ac1dbc5a12594841b9a17f63772a84eb": {
          "model_module": "@jupyter-widgets/controls",
          "model_name": "HBoxModel",
          "model_module_version": "1.5.0",
          "state": {
            "_dom_classes": [],
            "_model_module": "@jupyter-widgets/controls",
            "_model_module_version": "1.5.0",
            "_model_name": "HBoxModel",
            "_view_count": null,
            "_view_module": "@jupyter-widgets/controls",
            "_view_module_version": "1.5.0",
            "_view_name": "HBoxView",
            "box_style": "",
            "children": [
              "IPY_MODEL_277d8c228a9d4e7ab429c4a5f0953254",
              "IPY_MODEL_e706c97a20a44c4abb0657a4c0da46ff",
              "IPY_MODEL_a4b35f6dcf4f47688e129040fa763092"
            ],
            "layout": "IPY_MODEL_7211823330714abca113c4d5f3e13d39"
          }
        },
        "277d8c228a9d4e7ab429c4a5f0953254": {
          "model_module": "@jupyter-widgets/controls",
          "model_name": "HTMLModel",
          "model_module_version": "1.5.0",
          "state": {
            "_dom_classes": [],
            "_model_module": "@jupyter-widgets/controls",
            "_model_module_version": "1.5.0",
            "_model_name": "HTMLModel",
            "_view_count": null,
            "_view_module": "@jupyter-widgets/controls",
            "_view_module_version": "1.5.0",
            "_view_name": "HTMLView",
            "description": "",
            "description_tooltip": null,
            "layout": "IPY_MODEL_1f3bcf97e38145c0910c03060d7d0c95",
            "placeholder": "​",
            "style": "IPY_MODEL_838de6198e1d4c1eb492a69dc51ba17f",
            "value": "config.json: "
          }
        },
        "e706c97a20a44c4abb0657a4c0da46ff": {
          "model_module": "@jupyter-widgets/controls",
          "model_name": "FloatProgressModel",
          "model_module_version": "1.5.0",
          "state": {
            "_dom_classes": [],
            "_model_module": "@jupyter-widgets/controls",
            "_model_module_version": "1.5.0",
            "_model_name": "FloatProgressModel",
            "_view_count": null,
            "_view_module": "@jupyter-widgets/controls",
            "_view_module_version": "1.5.0",
            "_view_name": "ProgressView",
            "bar_style": "success",
            "description": "",
            "description_tooltip": null,
            "layout": "IPY_MODEL_e356a0adb12147bd9304ef13b12aee14",
            "max": 1,
            "min": 0,
            "orientation": "horizontal",
            "style": "IPY_MODEL_64ca15e4e7e8429c9b6128e6b4822f40",
            "value": 1
          }
        },
        "a4b35f6dcf4f47688e129040fa763092": {
          "model_module": "@jupyter-widgets/controls",
          "model_name": "HTMLModel",
          "model_module_version": "1.5.0",
          "state": {
            "_dom_classes": [],
            "_model_module": "@jupyter-widgets/controls",
            "_model_module_version": "1.5.0",
            "_model_name": "HTMLModel",
            "_view_count": null,
            "_view_module": "@jupyter-widgets/controls",
            "_view_module_version": "1.5.0",
            "_view_name": "HTMLView",
            "description": "",
            "description_tooltip": null,
            "layout": "IPY_MODEL_1abfed77ce3a4b29928e6c9e62ab92b9",
            "placeholder": "​",
            "style": "IPY_MODEL_99a1651d15794f088335892eebc63e8c",
            "value": " 1.11k/? [00:00&lt;00:00, 19.6kB/s]"
          }
        },
        "7211823330714abca113c4d5f3e13d39": {
          "model_module": "@jupyter-widgets/base",
          "model_name": "LayoutModel",
          "model_module_version": "1.2.0",
          "state": {
            "_model_module": "@jupyter-widgets/base",
            "_model_module_version": "1.2.0",
            "_model_name": "LayoutModel",
            "_view_count": null,
            "_view_module": "@jupyter-widgets/base",
            "_view_module_version": "1.2.0",
            "_view_name": "LayoutView",
            "align_content": null,
            "align_items": null,
            "align_self": null,
            "border": null,
            "bottom": null,
            "display": null,
            "flex": null,
            "flex_flow": null,
            "grid_area": null,
            "grid_auto_columns": null,
            "grid_auto_flow": null,
            "grid_auto_rows": null,
            "grid_column": null,
            "grid_gap": null,
            "grid_row": null,
            "grid_template_areas": null,
            "grid_template_columns": null,
            "grid_template_rows": null,
            "height": null,
            "justify_content": null,
            "justify_items": null,
            "left": null,
            "margin": null,
            "max_height": null,
            "max_width": null,
            "min_height": null,
            "min_width": null,
            "object_fit": null,
            "object_position": null,
            "order": null,
            "overflow": null,
            "overflow_x": null,
            "overflow_y": null,
            "padding": null,
            "right": null,
            "top": null,
            "visibility": null,
            "width": null
          }
        },
        "1f3bcf97e38145c0910c03060d7d0c95": {
          "model_module": "@jupyter-widgets/base",
          "model_name": "LayoutModel",
          "model_module_version": "1.2.0",
          "state": {
            "_model_module": "@jupyter-widgets/base",
            "_model_module_version": "1.2.0",
            "_model_name": "LayoutModel",
            "_view_count": null,
            "_view_module": "@jupyter-widgets/base",
            "_view_module_version": "1.2.0",
            "_view_name": "LayoutView",
            "align_content": null,
            "align_items": null,
            "align_self": null,
            "border": null,
            "bottom": null,
            "display": null,
            "flex": null,
            "flex_flow": null,
            "grid_area": null,
            "grid_auto_columns": null,
            "grid_auto_flow": null,
            "grid_auto_rows": null,
            "grid_column": null,
            "grid_gap": null,
            "grid_row": null,
            "grid_template_areas": null,
            "grid_template_columns": null,
            "grid_template_rows": null,
            "height": null,
            "justify_content": null,
            "justify_items": null,
            "left": null,
            "margin": null,
            "max_height": null,
            "max_width": null,
            "min_height": null,
            "min_width": null,
            "object_fit": null,
            "object_position": null,
            "order": null,
            "overflow": null,
            "overflow_x": null,
            "overflow_y": null,
            "padding": null,
            "right": null,
            "top": null,
            "visibility": null,
            "width": null
          }
        },
        "838de6198e1d4c1eb492a69dc51ba17f": {
          "model_module": "@jupyter-widgets/controls",
          "model_name": "DescriptionStyleModel",
          "model_module_version": "1.5.0",
          "state": {
            "_model_module": "@jupyter-widgets/controls",
            "_model_module_version": "1.5.0",
            "_model_name": "DescriptionStyleModel",
            "_view_count": null,
            "_view_module": "@jupyter-widgets/base",
            "_view_module_version": "1.2.0",
            "_view_name": "StyleView",
            "description_width": ""
          }
        },
        "e356a0adb12147bd9304ef13b12aee14": {
          "model_module": "@jupyter-widgets/base",
          "model_name": "LayoutModel",
          "model_module_version": "1.2.0",
          "state": {
            "_model_module": "@jupyter-widgets/base",
            "_model_module_version": "1.2.0",
            "_model_name": "LayoutModel",
            "_view_count": null,
            "_view_module": "@jupyter-widgets/base",
            "_view_module_version": "1.2.0",
            "_view_name": "LayoutView",
            "align_content": null,
            "align_items": null,
            "align_self": null,
            "border": null,
            "bottom": null,
            "display": null,
            "flex": null,
            "flex_flow": null,
            "grid_area": null,
            "grid_auto_columns": null,
            "grid_auto_flow": null,
            "grid_auto_rows": null,
            "grid_column": null,
            "grid_gap": null,
            "grid_row": null,
            "grid_template_areas": null,
            "grid_template_columns": null,
            "grid_template_rows": null,
            "height": null,
            "justify_content": null,
            "justify_items": null,
            "left": null,
            "margin": null,
            "max_height": null,
            "max_width": null,
            "min_height": null,
            "min_width": null,
            "object_fit": null,
            "object_position": null,
            "order": null,
            "overflow": null,
            "overflow_x": null,
            "overflow_y": null,
            "padding": null,
            "right": null,
            "top": null,
            "visibility": null,
            "width": "20px"
          }
        },
        "64ca15e4e7e8429c9b6128e6b4822f40": {
          "model_module": "@jupyter-widgets/controls",
          "model_name": "ProgressStyleModel",
          "model_module_version": "1.5.0",
          "state": {
            "_model_module": "@jupyter-widgets/controls",
            "_model_module_version": "1.5.0",
            "_model_name": "ProgressStyleModel",
            "_view_count": null,
            "_view_module": "@jupyter-widgets/base",
            "_view_module_version": "1.2.0",
            "_view_name": "StyleView",
            "bar_color": null,
            "description_width": ""
          }
        },
        "1abfed77ce3a4b29928e6c9e62ab92b9": {
          "model_module": "@jupyter-widgets/base",
          "model_name": "LayoutModel",
          "model_module_version": "1.2.0",
          "state": {
            "_model_module": "@jupyter-widgets/base",
            "_model_module_version": "1.2.0",
            "_model_name": "LayoutModel",
            "_view_count": null,
            "_view_module": "@jupyter-widgets/base",
            "_view_module_version": "1.2.0",
            "_view_name": "LayoutView",
            "align_content": null,
            "align_items": null,
            "align_self": null,
            "border": null,
            "bottom": null,
            "display": null,
            "flex": null,
            "flex_flow": null,
            "grid_area": null,
            "grid_auto_columns": null,
            "grid_auto_flow": null,
            "grid_auto_rows": null,
            "grid_column": null,
            "grid_gap": null,
            "grid_row": null,
            "grid_template_areas": null,
            "grid_template_columns": null,
            "grid_template_rows": null,
            "height": null,
            "justify_content": null,
            "justify_items": null,
            "left": null,
            "margin": null,
            "max_height": null,
            "max_width": null,
            "min_height": null,
            "min_width": null,
            "object_fit": null,
            "object_position": null,
            "order": null,
            "overflow": null,
            "overflow_x": null,
            "overflow_y": null,
            "padding": null,
            "right": null,
            "top": null,
            "visibility": null,
            "width": null
          }
        },
        "99a1651d15794f088335892eebc63e8c": {
          "model_module": "@jupyter-widgets/controls",
          "model_name": "DescriptionStyleModel",
          "model_module_version": "1.5.0",
          "state": {
            "_model_module": "@jupyter-widgets/controls",
            "_model_module_version": "1.5.0",
            "_model_name": "DescriptionStyleModel",
            "_view_count": null,
            "_view_module": "@jupyter-widgets/base",
            "_view_module_version": "1.2.0",
            "_view_name": "StyleView",
            "description_width": ""
          }
        },
        "62b250e39cb74156a3e7882c7576afe8": {
          "model_module": "@jupyter-widgets/controls",
          "model_name": "HBoxModel",
          "model_module_version": "1.5.0",
          "state": {
            "_dom_classes": [],
            "_model_module": "@jupyter-widgets/controls",
            "_model_module_version": "1.5.0",
            "_model_name": "HBoxModel",
            "_view_count": null,
            "_view_module": "@jupyter-widgets/controls",
            "_view_module_version": "1.5.0",
            "_view_name": "HBoxView",
            "box_style": "",
            "children": [
              "IPY_MODEL_50d98b9d38cd4155a6c9d9dbdf2c417a",
              "IPY_MODEL_051687d4fe2e496787742863383c1506",
              "IPY_MODEL_de2847a7c97d49be8497577963e1674f"
            ],
            "layout": "IPY_MODEL_3bb7f4100a124180a1052f460adf2ed2"
          }
        },
        "50d98b9d38cd4155a6c9d9dbdf2c417a": {
          "model_module": "@jupyter-widgets/controls",
          "model_name": "HTMLModel",
          "model_module_version": "1.5.0",
          "state": {
            "_dom_classes": [],
            "_model_module": "@jupyter-widgets/controls",
            "_model_module_version": "1.5.0",
            "_model_name": "HTMLModel",
            "_view_count": null,
            "_view_module": "@jupyter-widgets/controls",
            "_view_module_version": "1.5.0",
            "_view_name": "HTMLView",
            "description": "",
            "description_tooltip": null,
            "layout": "IPY_MODEL_e19188eb7bae4869993ac4fab7ea3ce8",
            "placeholder": "​",
            "style": "IPY_MODEL_1335678b3fcd4acb868f13387b88e6ba",
            "value": "model.safetensors: 100%"
          }
        },
        "051687d4fe2e496787742863383c1506": {
          "model_module": "@jupyter-widgets/controls",
          "model_name": "FloatProgressModel",
          "model_module_version": "1.5.0",
          "state": {
            "_dom_classes": [],
            "_model_module": "@jupyter-widgets/controls",
            "_model_module_version": "1.5.0",
            "_model_name": "FloatProgressModel",
            "_view_count": null,
            "_view_module": "@jupyter-widgets/controls",
            "_view_module_version": "1.5.0",
            "_view_name": "ProgressView",
            "bar_style": "success",
            "description": "",
            "description_tooltip": null,
            "layout": "IPY_MODEL_138d21417d5547369058b87ba14f84d6",
            "max": 496266768,
            "min": 0,
            "orientation": "horizontal",
            "style": "IPY_MODEL_a59ecc1b85fd43c5b429efb048a9013f",
            "value": 496266768
          }
        },
        "de2847a7c97d49be8497577963e1674f": {
          "model_module": "@jupyter-widgets/controls",
          "model_name": "HTMLModel",
          "model_module_version": "1.5.0",
          "state": {
            "_dom_classes": [],
            "_model_module": "@jupyter-widgets/controls",
            "_model_module_version": "1.5.0",
            "_model_name": "HTMLModel",
            "_view_count": null,
            "_view_module": "@jupyter-widgets/controls",
            "_view_module_version": "1.5.0",
            "_view_name": "HTMLView",
            "description": "",
            "description_tooltip": null,
            "layout": "IPY_MODEL_68093be3710946678f269efe2faa0191",
            "placeholder": "​",
            "style": "IPY_MODEL_781907bcae324453870d133aa2e6f0b8",
            "value": " 496M/496M [00:21&lt;00:00, 28.8MB/s]"
          }
        },
        "3bb7f4100a124180a1052f460adf2ed2": {
          "model_module": "@jupyter-widgets/base",
          "model_name": "LayoutModel",
          "model_module_version": "1.2.0",
          "state": {
            "_model_module": "@jupyter-widgets/base",
            "_model_module_version": "1.2.0",
            "_model_name": "LayoutModel",
            "_view_count": null,
            "_view_module": "@jupyter-widgets/base",
            "_view_module_version": "1.2.0",
            "_view_name": "LayoutView",
            "align_content": null,
            "align_items": null,
            "align_self": null,
            "border": null,
            "bottom": null,
            "display": null,
            "flex": null,
            "flex_flow": null,
            "grid_area": null,
            "grid_auto_columns": null,
            "grid_auto_flow": null,
            "grid_auto_rows": null,
            "grid_column": null,
            "grid_gap": null,
            "grid_row": null,
            "grid_template_areas": null,
            "grid_template_columns": null,
            "grid_template_rows": null,
            "height": null,
            "justify_content": null,
            "justify_items": null,
            "left": null,
            "margin": null,
            "max_height": null,
            "max_width": null,
            "min_height": null,
            "min_width": null,
            "object_fit": null,
            "object_position": null,
            "order": null,
            "overflow": null,
            "overflow_x": null,
            "overflow_y": null,
            "padding": null,
            "right": null,
            "top": null,
            "visibility": null,
            "width": null
          }
        },
        "e19188eb7bae4869993ac4fab7ea3ce8": {
          "model_module": "@jupyter-widgets/base",
          "model_name": "LayoutModel",
          "model_module_version": "1.2.0",
          "state": {
            "_model_module": "@jupyter-widgets/base",
            "_model_module_version": "1.2.0",
            "_model_name": "LayoutModel",
            "_view_count": null,
            "_view_module": "@jupyter-widgets/base",
            "_view_module_version": "1.2.0",
            "_view_name": "LayoutView",
            "align_content": null,
            "align_items": null,
            "align_self": null,
            "border": null,
            "bottom": null,
            "display": null,
            "flex": null,
            "flex_flow": null,
            "grid_area": null,
            "grid_auto_columns": null,
            "grid_auto_flow": null,
            "grid_auto_rows": null,
            "grid_column": null,
            "grid_gap": null,
            "grid_row": null,
            "grid_template_areas": null,
            "grid_template_columns": null,
            "grid_template_rows": null,
            "height": null,
            "justify_content": null,
            "justify_items": null,
            "left": null,
            "margin": null,
            "max_height": null,
            "max_width": null,
            "min_height": null,
            "min_width": null,
            "object_fit": null,
            "object_position": null,
            "order": null,
            "overflow": null,
            "overflow_x": null,
            "overflow_y": null,
            "padding": null,
            "right": null,
            "top": null,
            "visibility": null,
            "width": null
          }
        },
        "1335678b3fcd4acb868f13387b88e6ba": {
          "model_module": "@jupyter-widgets/controls",
          "model_name": "DescriptionStyleModel",
          "model_module_version": "1.5.0",
          "state": {
            "_model_module": "@jupyter-widgets/controls",
            "_model_module_version": "1.5.0",
            "_model_name": "DescriptionStyleModel",
            "_view_count": null,
            "_view_module": "@jupyter-widgets/base",
            "_view_module_version": "1.2.0",
            "_view_name": "StyleView",
            "description_width": ""
          }
        },
        "138d21417d5547369058b87ba14f84d6": {
          "model_module": "@jupyter-widgets/base",
          "model_name": "LayoutModel",
          "model_module_version": "1.2.0",
          "state": {
            "_model_module": "@jupyter-widgets/base",
            "_model_module_version": "1.2.0",
            "_model_name": "LayoutModel",
            "_view_count": null,
            "_view_module": "@jupyter-widgets/base",
            "_view_module_version": "1.2.0",
            "_view_name": "LayoutView",
            "align_content": null,
            "align_items": null,
            "align_self": null,
            "border": null,
            "bottom": null,
            "display": null,
            "flex": null,
            "flex_flow": null,
            "grid_area": null,
            "grid_auto_columns": null,
            "grid_auto_flow": null,
            "grid_auto_rows": null,
            "grid_column": null,
            "grid_gap": null,
            "grid_row": null,
            "grid_template_areas": null,
            "grid_template_columns": null,
            "grid_template_rows": null,
            "height": null,
            "justify_content": null,
            "justify_items": null,
            "left": null,
            "margin": null,
            "max_height": null,
            "max_width": null,
            "min_height": null,
            "min_width": null,
            "object_fit": null,
            "object_position": null,
            "order": null,
            "overflow": null,
            "overflow_x": null,
            "overflow_y": null,
            "padding": null,
            "right": null,
            "top": null,
            "visibility": null,
            "width": null
          }
        },
        "a59ecc1b85fd43c5b429efb048a9013f": {
          "model_module": "@jupyter-widgets/controls",
          "model_name": "ProgressStyleModel",
          "model_module_version": "1.5.0",
          "state": {
            "_model_module": "@jupyter-widgets/controls",
            "_model_module_version": "1.5.0",
            "_model_name": "ProgressStyleModel",
            "_view_count": null,
            "_view_module": "@jupyter-widgets/base",
            "_view_module_version": "1.2.0",
            "_view_name": "StyleView",
            "bar_color": null,
            "description_width": ""
          }
        },
        "68093be3710946678f269efe2faa0191": {
          "model_module": "@jupyter-widgets/base",
          "model_name": "LayoutModel",
          "model_module_version": "1.2.0",
          "state": {
            "_model_module": "@jupyter-widgets/base",
            "_model_module_version": "1.2.0",
            "_model_name": "LayoutModel",
            "_view_count": null,
            "_view_module": "@jupyter-widgets/base",
            "_view_module_version": "1.2.0",
            "_view_name": "LayoutView",
            "align_content": null,
            "align_items": null,
            "align_self": null,
            "border": null,
            "bottom": null,
            "display": null,
            "flex": null,
            "flex_flow": null,
            "grid_area": null,
            "grid_auto_columns": null,
            "grid_auto_flow": null,
            "grid_auto_rows": null,
            "grid_column": null,
            "grid_gap": null,
            "grid_row": null,
            "grid_template_areas": null,
            "grid_template_columns": null,
            "grid_template_rows": null,
            "height": null,
            "justify_content": null,
            "justify_items": null,
            "left": null,
            "margin": null,
            "max_height": null,
            "max_width": null,
            "min_height": null,
            "min_width": null,
            "object_fit": null,
            "object_position": null,
            "order": null,
            "overflow": null,
            "overflow_x": null,
            "overflow_y": null,
            "padding": null,
            "right": null,
            "top": null,
            "visibility": null,
            "width": null
          }
        },
        "781907bcae324453870d133aa2e6f0b8": {
          "model_module": "@jupyter-widgets/controls",
          "model_name": "DescriptionStyleModel",
          "model_module_version": "1.5.0",
          "state": {
            "_model_module": "@jupyter-widgets/controls",
            "_model_module_version": "1.5.0",
            "_model_name": "DescriptionStyleModel",
            "_view_count": null,
            "_view_module": "@jupyter-widgets/base",
            "_view_module_version": "1.2.0",
            "_view_name": "StyleView",
            "description_width": ""
          }
        },
        "2b470dacdae04756bc282d8178593331": {
          "model_module": "@jupyter-widgets/controls",
          "model_name": "HBoxModel",
          "model_module_version": "1.5.0",
          "state": {
            "_dom_classes": [],
            "_model_module": "@jupyter-widgets/controls",
            "_model_module_version": "1.5.0",
            "_model_name": "HBoxModel",
            "_view_count": null,
            "_view_module": "@jupyter-widgets/controls",
            "_view_module_version": "1.5.0",
            "_view_name": "HBoxView",
            "box_style": "",
            "children": [
              "IPY_MODEL_8eb375563c1547a2962a4a0c5649582e",
              "IPY_MODEL_d5c9696ee642463e9b47dcf5cb1287c0",
              "IPY_MODEL_f886818514be42999e34f01ff311e8f1"
            ],
            "layout": "IPY_MODEL_c2652ff1e1a24c258426acbb51ffc79a"
          }
        },
        "8eb375563c1547a2962a4a0c5649582e": {
          "model_module": "@jupyter-widgets/controls",
          "model_name": "HTMLModel",
          "model_module_version": "1.5.0",
          "state": {
            "_dom_classes": [],
            "_model_module": "@jupyter-widgets/controls",
            "_model_module_version": "1.5.0",
            "_model_name": "HTMLModel",
            "_view_count": null,
            "_view_module": "@jupyter-widgets/controls",
            "_view_module_version": "1.5.0",
            "_view_name": "HTMLView",
            "description": "",
            "description_tooltip": null,
            "layout": "IPY_MODEL_f436109ac3c84df29748967dc896ee18",
            "placeholder": "​",
            "style": "IPY_MODEL_553d90ba5276498fa860e22c8f783993",
            "value": "tokenizer_config.json: "
          }
        },
        "d5c9696ee642463e9b47dcf5cb1287c0": {
          "model_module": "@jupyter-widgets/controls",
          "model_name": "FloatProgressModel",
          "model_module_version": "1.5.0",
          "state": {
            "_dom_classes": [],
            "_model_module": "@jupyter-widgets/controls",
            "_model_module_version": "1.5.0",
            "_model_name": "FloatProgressModel",
            "_view_count": null,
            "_view_module": "@jupyter-widgets/controls",
            "_view_module_version": "1.5.0",
            "_view_name": "ProgressView",
            "bar_style": "success",
            "description": "",
            "description_tooltip": null,
            "layout": "IPY_MODEL_b1f38002e6304422a9ccb63ab76146f9",
            "max": 1,
            "min": 0,
            "orientation": "horizontal",
            "style": "IPY_MODEL_cc9fd324e3794adc8abaaa8b6a922c7b",
            "value": 1
          }
        },
        "f886818514be42999e34f01ff311e8f1": {
          "model_module": "@jupyter-widgets/controls",
          "model_name": "HTMLModel",
          "model_module_version": "1.5.0",
          "state": {
            "_dom_classes": [],
            "_model_module": "@jupyter-widgets/controls",
            "_model_module_version": "1.5.0",
            "_model_name": "HTMLModel",
            "_view_count": null,
            "_view_module": "@jupyter-widgets/controls",
            "_view_module_version": "1.5.0",
            "_view_name": "HTMLView",
            "description": "",
            "description_tooltip": null,
            "layout": "IPY_MODEL_46f1692ae80747e1baba4b8e98f73854",
            "placeholder": "​",
            "style": "IPY_MODEL_ebc1c732df994f36a5ee5b47443f07d9",
            "value": " 1.16k/? [00:00&lt;00:00, 10.4kB/s]"
          }
        },
        "c2652ff1e1a24c258426acbb51ffc79a": {
          "model_module": "@jupyter-widgets/base",
          "model_name": "LayoutModel",
          "model_module_version": "1.2.0",
          "state": {
            "_model_module": "@jupyter-widgets/base",
            "_model_module_version": "1.2.0",
            "_model_name": "LayoutModel",
            "_view_count": null,
            "_view_module": "@jupyter-widgets/base",
            "_view_module_version": "1.2.0",
            "_view_name": "LayoutView",
            "align_content": null,
            "align_items": null,
            "align_self": null,
            "border": null,
            "bottom": null,
            "display": null,
            "flex": null,
            "flex_flow": null,
            "grid_area": null,
            "grid_auto_columns": null,
            "grid_auto_flow": null,
            "grid_auto_rows": null,
            "grid_column": null,
            "grid_gap": null,
            "grid_row": null,
            "grid_template_areas": null,
            "grid_template_columns": null,
            "grid_template_rows": null,
            "height": null,
            "justify_content": null,
            "justify_items": null,
            "left": null,
            "margin": null,
            "max_height": null,
            "max_width": null,
            "min_height": null,
            "min_width": null,
            "object_fit": null,
            "object_position": null,
            "order": null,
            "overflow": null,
            "overflow_x": null,
            "overflow_y": null,
            "padding": null,
            "right": null,
            "top": null,
            "visibility": null,
            "width": null
          }
        },
        "f436109ac3c84df29748967dc896ee18": {
          "model_module": "@jupyter-widgets/base",
          "model_name": "LayoutModel",
          "model_module_version": "1.2.0",
          "state": {
            "_model_module": "@jupyter-widgets/base",
            "_model_module_version": "1.2.0",
            "_model_name": "LayoutModel",
            "_view_count": null,
            "_view_module": "@jupyter-widgets/base",
            "_view_module_version": "1.2.0",
            "_view_name": "LayoutView",
            "align_content": null,
            "align_items": null,
            "align_self": null,
            "border": null,
            "bottom": null,
            "display": null,
            "flex": null,
            "flex_flow": null,
            "grid_area": null,
            "grid_auto_columns": null,
            "grid_auto_flow": null,
            "grid_auto_rows": null,
            "grid_column": null,
            "grid_gap": null,
            "grid_row": null,
            "grid_template_areas": null,
            "grid_template_columns": null,
            "grid_template_rows": null,
            "height": null,
            "justify_content": null,
            "justify_items": null,
            "left": null,
            "margin": null,
            "max_height": null,
            "max_width": null,
            "min_height": null,
            "min_width": null,
            "object_fit": null,
            "object_position": null,
            "order": null,
            "overflow": null,
            "overflow_x": null,
            "overflow_y": null,
            "padding": null,
            "right": null,
            "top": null,
            "visibility": null,
            "width": null
          }
        },
        "553d90ba5276498fa860e22c8f783993": {
          "model_module": "@jupyter-widgets/controls",
          "model_name": "DescriptionStyleModel",
          "model_module_version": "1.5.0",
          "state": {
            "_model_module": "@jupyter-widgets/controls",
            "_model_module_version": "1.5.0",
            "_model_name": "DescriptionStyleModel",
            "_view_count": null,
            "_view_module": "@jupyter-widgets/base",
            "_view_module_version": "1.2.0",
            "_view_name": "StyleView",
            "description_width": ""
          }
        },
        "b1f38002e6304422a9ccb63ab76146f9": {
          "model_module": "@jupyter-widgets/base",
          "model_name": "LayoutModel",
          "model_module_version": "1.2.0",
          "state": {
            "_model_module": "@jupyter-widgets/base",
            "_model_module_version": "1.2.0",
            "_model_name": "LayoutModel",
            "_view_count": null,
            "_view_module": "@jupyter-widgets/base",
            "_view_module_version": "1.2.0",
            "_view_name": "LayoutView",
            "align_content": null,
            "align_items": null,
            "align_self": null,
            "border": null,
            "bottom": null,
            "display": null,
            "flex": null,
            "flex_flow": null,
            "grid_area": null,
            "grid_auto_columns": null,
            "grid_auto_flow": null,
            "grid_auto_rows": null,
            "grid_column": null,
            "grid_gap": null,
            "grid_row": null,
            "grid_template_areas": null,
            "grid_template_columns": null,
            "grid_template_rows": null,
            "height": null,
            "justify_content": null,
            "justify_items": null,
            "left": null,
            "margin": null,
            "max_height": null,
            "max_width": null,
            "min_height": null,
            "min_width": null,
            "object_fit": null,
            "object_position": null,
            "order": null,
            "overflow": null,
            "overflow_x": null,
            "overflow_y": null,
            "padding": null,
            "right": null,
            "top": null,
            "visibility": null,
            "width": "20px"
          }
        },
        "cc9fd324e3794adc8abaaa8b6a922c7b": {
          "model_module": "@jupyter-widgets/controls",
          "model_name": "ProgressStyleModel",
          "model_module_version": "1.5.0",
          "state": {
            "_model_module": "@jupyter-widgets/controls",
            "_model_module_version": "1.5.0",
            "_model_name": "ProgressStyleModel",
            "_view_count": null,
            "_view_module": "@jupyter-widgets/base",
            "_view_module_version": "1.2.0",
            "_view_name": "StyleView",
            "bar_color": null,
            "description_width": ""
          }
        },
        "46f1692ae80747e1baba4b8e98f73854": {
          "model_module": "@jupyter-widgets/base",
          "model_name": "LayoutModel",
          "model_module_version": "1.2.0",
          "state": {
            "_model_module": "@jupyter-widgets/base",
            "_model_module_version": "1.2.0",
            "_model_name": "LayoutModel",
            "_view_count": null,
            "_view_module": "@jupyter-widgets/base",
            "_view_module_version": "1.2.0",
            "_view_name": "LayoutView",
            "align_content": null,
            "align_items": null,
            "align_self": null,
            "border": null,
            "bottom": null,
            "display": null,
            "flex": null,
            "flex_flow": null,
            "grid_area": null,
            "grid_auto_columns": null,
            "grid_auto_flow": null,
            "grid_auto_rows": null,
            "grid_column": null,
            "grid_gap": null,
            "grid_row": null,
            "grid_template_areas": null,
            "grid_template_columns": null,
            "grid_template_rows": null,
            "height": null,
            "justify_content": null,
            "justify_items": null,
            "left": null,
            "margin": null,
            "max_height": null,
            "max_width": null,
            "min_height": null,
            "min_width": null,
            "object_fit": null,
            "object_position": null,
            "order": null,
            "overflow": null,
            "overflow_x": null,
            "overflow_y": null,
            "padding": null,
            "right": null,
            "top": null,
            "visibility": null,
            "width": null
          }
        },
        "ebc1c732df994f36a5ee5b47443f07d9": {
          "model_module": "@jupyter-widgets/controls",
          "model_name": "DescriptionStyleModel",
          "model_module_version": "1.5.0",
          "state": {
            "_model_module": "@jupyter-widgets/controls",
            "_model_module_version": "1.5.0",
            "_model_name": "DescriptionStyleModel",
            "_view_count": null,
            "_view_module": "@jupyter-widgets/base",
            "_view_module_version": "1.2.0",
            "_view_name": "StyleView",
            "description_width": ""
          }
        },
        "85a008d57d6f438aa4d18ad5e0164e7b": {
          "model_module": "@jupyter-widgets/controls",
          "model_name": "HBoxModel",
          "model_module_version": "1.5.0",
          "state": {
            "_dom_classes": [],
            "_model_module": "@jupyter-widgets/controls",
            "_model_module_version": "1.5.0",
            "_model_name": "HBoxModel",
            "_view_count": null,
            "_view_module": "@jupyter-widgets/controls",
            "_view_module_version": "1.5.0",
            "_view_name": "HBoxView",
            "box_style": "",
            "children": [
              "IPY_MODEL_fad81f2569ee4acdac4038e2dcc1802a",
              "IPY_MODEL_9e15907df105442ca3dd4a328349874e",
              "IPY_MODEL_d298dd5cf9444cdabff8c2f8ed785e87"
            ],
            "layout": "IPY_MODEL_dc30b2bfd87b48f5bdf660c32177fa61"
          }
        },
        "fad81f2569ee4acdac4038e2dcc1802a": {
          "model_module": "@jupyter-widgets/controls",
          "model_name": "HTMLModel",
          "model_module_version": "1.5.0",
          "state": {
            "_dom_classes": [],
            "_model_module": "@jupyter-widgets/controls",
            "_model_module_version": "1.5.0",
            "_model_name": "HTMLModel",
            "_view_count": null,
            "_view_module": "@jupyter-widgets/controls",
            "_view_module_version": "1.5.0",
            "_view_name": "HTMLView",
            "description": "",
            "description_tooltip": null,
            "layout": "IPY_MODEL_15136fbd5d6f49d69e5065b3b4d8f8ad",
            "placeholder": "​",
            "style": "IPY_MODEL_b9996257393444369da994cbfb616fbf",
            "value": "vocab.json: "
          }
        },
        "9e15907df105442ca3dd4a328349874e": {
          "model_module": "@jupyter-widgets/controls",
          "model_name": "FloatProgressModel",
          "model_module_version": "1.5.0",
          "state": {
            "_dom_classes": [],
            "_model_module": "@jupyter-widgets/controls",
            "_model_module_version": "1.5.0",
            "_model_name": "FloatProgressModel",
            "_view_count": null,
            "_view_module": "@jupyter-widgets/controls",
            "_view_module_version": "1.5.0",
            "_view_name": "ProgressView",
            "bar_style": "success",
            "description": "",
            "description_tooltip": null,
            "layout": "IPY_MODEL_609e4c7ff67d41cbb040b1e6348e5451",
            "max": 1,
            "min": 0,
            "orientation": "horizontal",
            "style": "IPY_MODEL_162f3bd36ddc48c2bf0b98c8ade53b04",
            "value": 1
          }
        },
        "d298dd5cf9444cdabff8c2f8ed785e87": {
          "model_module": "@jupyter-widgets/controls",
          "model_name": "HTMLModel",
          "model_module_version": "1.5.0",
          "state": {
            "_dom_classes": [],
            "_model_module": "@jupyter-widgets/controls",
            "_model_module_version": "1.5.0",
            "_model_name": "HTMLModel",
            "_view_count": null,
            "_view_module": "@jupyter-widgets/controls",
            "_view_module_version": "1.5.0",
            "_view_name": "HTMLView",
            "description": "",
            "description_tooltip": null,
            "layout": "IPY_MODEL_a8a016718df949fa8a35c32dfea46341",
            "placeholder": "​",
            "style": "IPY_MODEL_ce9acda46aff43908d5992b658bf04ac",
            "value": " 863k/? [00:00&lt;00:00, 4.09MB/s]"
          }
        },
        "dc30b2bfd87b48f5bdf660c32177fa61": {
          "model_module": "@jupyter-widgets/base",
          "model_name": "LayoutModel",
          "model_module_version": "1.2.0",
          "state": {
            "_model_module": "@jupyter-widgets/base",
            "_model_module_version": "1.2.0",
            "_model_name": "LayoutModel",
            "_view_count": null,
            "_view_module": "@jupyter-widgets/base",
            "_view_module_version": "1.2.0",
            "_view_name": "LayoutView",
            "align_content": null,
            "align_items": null,
            "align_self": null,
            "border": null,
            "bottom": null,
            "display": null,
            "flex": null,
            "flex_flow": null,
            "grid_area": null,
            "grid_auto_columns": null,
            "grid_auto_flow": null,
            "grid_auto_rows": null,
            "grid_column": null,
            "grid_gap": null,
            "grid_row": null,
            "grid_template_areas": null,
            "grid_template_columns": null,
            "grid_template_rows": null,
            "height": null,
            "justify_content": null,
            "justify_items": null,
            "left": null,
            "margin": null,
            "max_height": null,
            "max_width": null,
            "min_height": null,
            "min_width": null,
            "object_fit": null,
            "object_position": null,
            "order": null,
            "overflow": null,
            "overflow_x": null,
            "overflow_y": null,
            "padding": null,
            "right": null,
            "top": null,
            "visibility": null,
            "width": null
          }
        },
        "15136fbd5d6f49d69e5065b3b4d8f8ad": {
          "model_module": "@jupyter-widgets/base",
          "model_name": "LayoutModel",
          "model_module_version": "1.2.0",
          "state": {
            "_model_module": "@jupyter-widgets/base",
            "_model_module_version": "1.2.0",
            "_model_name": "LayoutModel",
            "_view_count": null,
            "_view_module": "@jupyter-widgets/base",
            "_view_module_version": "1.2.0",
            "_view_name": "LayoutView",
            "align_content": null,
            "align_items": null,
            "align_self": null,
            "border": null,
            "bottom": null,
            "display": null,
            "flex": null,
            "flex_flow": null,
            "grid_area": null,
            "grid_auto_columns": null,
            "grid_auto_flow": null,
            "grid_auto_rows": null,
            "grid_column": null,
            "grid_gap": null,
            "grid_row": null,
            "grid_template_areas": null,
            "grid_template_columns": null,
            "grid_template_rows": null,
            "height": null,
            "justify_content": null,
            "justify_items": null,
            "left": null,
            "margin": null,
            "max_height": null,
            "max_width": null,
            "min_height": null,
            "min_width": null,
            "object_fit": null,
            "object_position": null,
            "order": null,
            "overflow": null,
            "overflow_x": null,
            "overflow_y": null,
            "padding": null,
            "right": null,
            "top": null,
            "visibility": null,
            "width": null
          }
        },
        "b9996257393444369da994cbfb616fbf": {
          "model_module": "@jupyter-widgets/controls",
          "model_name": "DescriptionStyleModel",
          "model_module_version": "1.5.0",
          "state": {
            "_model_module": "@jupyter-widgets/controls",
            "_model_module_version": "1.5.0",
            "_model_name": "DescriptionStyleModel",
            "_view_count": null,
            "_view_module": "@jupyter-widgets/base",
            "_view_module_version": "1.2.0",
            "_view_name": "StyleView",
            "description_width": ""
          }
        },
        "609e4c7ff67d41cbb040b1e6348e5451": {
          "model_module": "@jupyter-widgets/base",
          "model_name": "LayoutModel",
          "model_module_version": "1.2.0",
          "state": {
            "_model_module": "@jupyter-widgets/base",
            "_model_module_version": "1.2.0",
            "_model_name": "LayoutModel",
            "_view_count": null,
            "_view_module": "@jupyter-widgets/base",
            "_view_module_version": "1.2.0",
            "_view_name": "LayoutView",
            "align_content": null,
            "align_items": null,
            "align_self": null,
            "border": null,
            "bottom": null,
            "display": null,
            "flex": null,
            "flex_flow": null,
            "grid_area": null,
            "grid_auto_columns": null,
            "grid_auto_flow": null,
            "grid_auto_rows": null,
            "grid_column": null,
            "grid_gap": null,
            "grid_row": null,
            "grid_template_areas": null,
            "grid_template_columns": null,
            "grid_template_rows": null,
            "height": null,
            "justify_content": null,
            "justify_items": null,
            "left": null,
            "margin": null,
            "max_height": null,
            "max_width": null,
            "min_height": null,
            "min_width": null,
            "object_fit": null,
            "object_position": null,
            "order": null,
            "overflow": null,
            "overflow_x": null,
            "overflow_y": null,
            "padding": null,
            "right": null,
            "top": null,
            "visibility": null,
            "width": "20px"
          }
        },
        "162f3bd36ddc48c2bf0b98c8ade53b04": {
          "model_module": "@jupyter-widgets/controls",
          "model_name": "ProgressStyleModel",
          "model_module_version": "1.5.0",
          "state": {
            "_model_module": "@jupyter-widgets/controls",
            "_model_module_version": "1.5.0",
            "_model_name": "ProgressStyleModel",
            "_view_count": null,
            "_view_module": "@jupyter-widgets/base",
            "_view_module_version": "1.2.0",
            "_view_name": "StyleView",
            "bar_color": null,
            "description_width": ""
          }
        },
        "a8a016718df949fa8a35c32dfea46341": {
          "model_module": "@jupyter-widgets/base",
          "model_name": "LayoutModel",
          "model_module_version": "1.2.0",
          "state": {
            "_model_module": "@jupyter-widgets/base",
            "_model_module_version": "1.2.0",
            "_model_name": "LayoutModel",
            "_view_count": null,
            "_view_module": "@jupyter-widgets/base",
            "_view_module_version": "1.2.0",
            "_view_name": "LayoutView",
            "align_content": null,
            "align_items": null,
            "align_self": null,
            "border": null,
            "bottom": null,
            "display": null,
            "flex": null,
            "flex_flow": null,
            "grid_area": null,
            "grid_auto_columns": null,
            "grid_auto_flow": null,
            "grid_auto_rows": null,
            "grid_column": null,
            "grid_gap": null,
            "grid_row": null,
            "grid_template_areas": null,
            "grid_template_columns": null,
            "grid_template_rows": null,
            "height": null,
            "justify_content": null,
            "justify_items": null,
            "left": null,
            "margin": null,
            "max_height": null,
            "max_width": null,
            "min_height": null,
            "min_width": null,
            "object_fit": null,
            "object_position": null,
            "order": null,
            "overflow": null,
            "overflow_x": null,
            "overflow_y": null,
            "padding": null,
            "right": null,
            "top": null,
            "visibility": null,
            "width": null
          }
        },
        "ce9acda46aff43908d5992b658bf04ac": {
          "model_module": "@jupyter-widgets/controls",
          "model_name": "DescriptionStyleModel",
          "model_module_version": "1.5.0",
          "state": {
            "_model_module": "@jupyter-widgets/controls",
            "_model_module_version": "1.5.0",
            "_model_name": "DescriptionStyleModel",
            "_view_count": null,
            "_view_module": "@jupyter-widgets/base",
            "_view_module_version": "1.2.0",
            "_view_name": "StyleView",
            "description_width": ""
          }
        },
        "b46639dbb227459fa3e269779b4d2420": {
          "model_module": "@jupyter-widgets/controls",
          "model_name": "HBoxModel",
          "model_module_version": "1.5.0",
          "state": {
            "_dom_classes": [],
            "_model_module": "@jupyter-widgets/controls",
            "_model_module_version": "1.5.0",
            "_model_name": "HBoxModel",
            "_view_count": null,
            "_view_module": "@jupyter-widgets/controls",
            "_view_module_version": "1.5.0",
            "_view_name": "HBoxView",
            "box_style": "",
            "children": [
              "IPY_MODEL_128c364f54594cdeb427be6c9e8b240b",
              "IPY_MODEL_151ace296ee1412db8fba498a41a0319",
              "IPY_MODEL_7ff7282804b74087b7d521c0db7100e6"
            ],
            "layout": "IPY_MODEL_db43af87eeec4ac181801a2707fbe4e7"
          }
        },
        "128c364f54594cdeb427be6c9e8b240b": {
          "model_module": "@jupyter-widgets/controls",
          "model_name": "HTMLModel",
          "model_module_version": "1.5.0",
          "state": {
            "_dom_classes": [],
            "_model_module": "@jupyter-widgets/controls",
            "_model_module_version": "1.5.0",
            "_model_name": "HTMLModel",
            "_view_count": null,
            "_view_module": "@jupyter-widgets/controls",
            "_view_module_version": "1.5.0",
            "_view_name": "HTMLView",
            "description": "",
            "description_tooltip": null,
            "layout": "IPY_MODEL_9a63b812907448df9dd9a8867267b015",
            "placeholder": "​",
            "style": "IPY_MODEL_953ac68862e9469c84651ea413753cf8",
            "value": "merges.txt: "
          }
        },
        "151ace296ee1412db8fba498a41a0319": {
          "model_module": "@jupyter-widgets/controls",
          "model_name": "FloatProgressModel",
          "model_module_version": "1.5.0",
          "state": {
            "_dom_classes": [],
            "_model_module": "@jupyter-widgets/controls",
            "_model_module_version": "1.5.0",
            "_model_name": "FloatProgressModel",
            "_view_count": null,
            "_view_module": "@jupyter-widgets/controls",
            "_view_module_version": "1.5.0",
            "_view_name": "ProgressView",
            "bar_style": "success",
            "description": "",
            "description_tooltip": null,
            "layout": "IPY_MODEL_3d27118b19394f818b75de98f1f579ad",
            "max": 1,
            "min": 0,
            "orientation": "horizontal",
            "style": "IPY_MODEL_e7d4da12b93141e990f53274395128b4",
            "value": 1
          }
        },
        "7ff7282804b74087b7d521c0db7100e6": {
          "model_module": "@jupyter-widgets/controls",
          "model_name": "HTMLModel",
          "model_module_version": "1.5.0",
          "state": {
            "_dom_classes": [],
            "_model_module": "@jupyter-widgets/controls",
            "_model_module_version": "1.5.0",
            "_model_name": "HTMLModel",
            "_view_count": null,
            "_view_module": "@jupyter-widgets/controls",
            "_view_module_version": "1.5.0",
            "_view_name": "HTMLView",
            "description": "",
            "description_tooltip": null,
            "layout": "IPY_MODEL_da46c5ef5d684474b9aa68b721f9583e",
            "placeholder": "​",
            "style": "IPY_MODEL_b4a03d91e7d740d3912a3aac94f6b583",
            "value": " 521k/? [00:00&lt;00:00, 5.12MB/s]"
          }
        },
        "db43af87eeec4ac181801a2707fbe4e7": {
          "model_module": "@jupyter-widgets/base",
          "model_name": "LayoutModel",
          "model_module_version": "1.2.0",
          "state": {
            "_model_module": "@jupyter-widgets/base",
            "_model_module_version": "1.2.0",
            "_model_name": "LayoutModel",
            "_view_count": null,
            "_view_module": "@jupyter-widgets/base",
            "_view_module_version": "1.2.0",
            "_view_name": "LayoutView",
            "align_content": null,
            "align_items": null,
            "align_self": null,
            "border": null,
            "bottom": null,
            "display": null,
            "flex": null,
            "flex_flow": null,
            "grid_area": null,
            "grid_auto_columns": null,
            "grid_auto_flow": null,
            "grid_auto_rows": null,
            "grid_column": null,
            "grid_gap": null,
            "grid_row": null,
            "grid_template_areas": null,
            "grid_template_columns": null,
            "grid_template_rows": null,
            "height": null,
            "justify_content": null,
            "justify_items": null,
            "left": null,
            "margin": null,
            "max_height": null,
            "max_width": null,
            "min_height": null,
            "min_width": null,
            "object_fit": null,
            "object_position": null,
            "order": null,
            "overflow": null,
            "overflow_x": null,
            "overflow_y": null,
            "padding": null,
            "right": null,
            "top": null,
            "visibility": null,
            "width": null
          }
        },
        "9a63b812907448df9dd9a8867267b015": {
          "model_module": "@jupyter-widgets/base",
          "model_name": "LayoutModel",
          "model_module_version": "1.2.0",
          "state": {
            "_model_module": "@jupyter-widgets/base",
            "_model_module_version": "1.2.0",
            "_model_name": "LayoutModel",
            "_view_count": null,
            "_view_module": "@jupyter-widgets/base",
            "_view_module_version": "1.2.0",
            "_view_name": "LayoutView",
            "align_content": null,
            "align_items": null,
            "align_self": null,
            "border": null,
            "bottom": null,
            "display": null,
            "flex": null,
            "flex_flow": null,
            "grid_area": null,
            "grid_auto_columns": null,
            "grid_auto_flow": null,
            "grid_auto_rows": null,
            "grid_column": null,
            "grid_gap": null,
            "grid_row": null,
            "grid_template_areas": null,
            "grid_template_columns": null,
            "grid_template_rows": null,
            "height": null,
            "justify_content": null,
            "justify_items": null,
            "left": null,
            "margin": null,
            "max_height": null,
            "max_width": null,
            "min_height": null,
            "min_width": null,
            "object_fit": null,
            "object_position": null,
            "order": null,
            "overflow": null,
            "overflow_x": null,
            "overflow_y": null,
            "padding": null,
            "right": null,
            "top": null,
            "visibility": null,
            "width": null
          }
        },
        "953ac68862e9469c84651ea413753cf8": {
          "model_module": "@jupyter-widgets/controls",
          "model_name": "DescriptionStyleModel",
          "model_module_version": "1.5.0",
          "state": {
            "_model_module": "@jupyter-widgets/controls",
            "_model_module_version": "1.5.0",
            "_model_name": "DescriptionStyleModel",
            "_view_count": null,
            "_view_module": "@jupyter-widgets/base",
            "_view_module_version": "1.2.0",
            "_view_name": "StyleView",
            "description_width": ""
          }
        },
        "3d27118b19394f818b75de98f1f579ad": {
          "model_module": "@jupyter-widgets/base",
          "model_name": "LayoutModel",
          "model_module_version": "1.2.0",
          "state": {
            "_model_module": "@jupyter-widgets/base",
            "_model_module_version": "1.2.0",
            "_model_name": "LayoutModel",
            "_view_count": null,
            "_view_module": "@jupyter-widgets/base",
            "_view_module_version": "1.2.0",
            "_view_name": "LayoutView",
            "align_content": null,
            "align_items": null,
            "align_self": null,
            "border": null,
            "bottom": null,
            "display": null,
            "flex": null,
            "flex_flow": null,
            "grid_area": null,
            "grid_auto_columns": null,
            "grid_auto_flow": null,
            "grid_auto_rows": null,
            "grid_column": null,
            "grid_gap": null,
            "grid_row": null,
            "grid_template_areas": null,
            "grid_template_columns": null,
            "grid_template_rows": null,
            "height": null,
            "justify_content": null,
            "justify_items": null,
            "left": null,
            "margin": null,
            "max_height": null,
            "max_width": null,
            "min_height": null,
            "min_width": null,
            "object_fit": null,
            "object_position": null,
            "order": null,
            "overflow": null,
            "overflow_x": null,
            "overflow_y": null,
            "padding": null,
            "right": null,
            "top": null,
            "visibility": null,
            "width": "20px"
          }
        },
        "e7d4da12b93141e990f53274395128b4": {
          "model_module": "@jupyter-widgets/controls",
          "model_name": "ProgressStyleModel",
          "model_module_version": "1.5.0",
          "state": {
            "_model_module": "@jupyter-widgets/controls",
            "_model_module_version": "1.5.0",
            "_model_name": "ProgressStyleModel",
            "_view_count": null,
            "_view_module": "@jupyter-widgets/base",
            "_view_module_version": "1.2.0",
            "_view_name": "StyleView",
            "bar_color": null,
            "description_width": ""
          }
        },
        "da46c5ef5d684474b9aa68b721f9583e": {
          "model_module": "@jupyter-widgets/base",
          "model_name": "LayoutModel",
          "model_module_version": "1.2.0",
          "state": {
            "_model_module": "@jupyter-widgets/base",
            "_model_module_version": "1.2.0",
            "_model_name": "LayoutModel",
            "_view_count": null,
            "_view_module": "@jupyter-widgets/base",
            "_view_module_version": "1.2.0",
            "_view_name": "LayoutView",
            "align_content": null,
            "align_items": null,
            "align_self": null,
            "border": null,
            "bottom": null,
            "display": null,
            "flex": null,
            "flex_flow": null,
            "grid_area": null,
            "grid_auto_columns": null,
            "grid_auto_flow": null,
            "grid_auto_rows": null,
            "grid_column": null,
            "grid_gap": null,
            "grid_row": null,
            "grid_template_areas": null,
            "grid_template_columns": null,
            "grid_template_rows": null,
            "height": null,
            "justify_content": null,
            "justify_items": null,
            "left": null,
            "margin": null,
            "max_height": null,
            "max_width": null,
            "min_height": null,
            "min_width": null,
            "object_fit": null,
            "object_position": null,
            "order": null,
            "overflow": null,
            "overflow_x": null,
            "overflow_y": null,
            "padding": null,
            "right": null,
            "top": null,
            "visibility": null,
            "width": null
          }
        },
        "b4a03d91e7d740d3912a3aac94f6b583": {
          "model_module": "@jupyter-widgets/controls",
          "model_name": "DescriptionStyleModel",
          "model_module_version": "1.5.0",
          "state": {
            "_model_module": "@jupyter-widgets/controls",
            "_model_module_version": "1.5.0",
            "_model_name": "DescriptionStyleModel",
            "_view_count": null,
            "_view_module": "@jupyter-widgets/base",
            "_view_module_version": "1.2.0",
            "_view_name": "StyleView",
            "description_width": ""
          }
        },
        "3be455ce592a4e9a8348f006fafb8ca2": {
          "model_module": "@jupyter-widgets/controls",
          "model_name": "HBoxModel",
          "model_module_version": "1.5.0",
          "state": {
            "_dom_classes": [],
            "_model_module": "@jupyter-widgets/controls",
            "_model_module_version": "1.5.0",
            "_model_name": "HBoxModel",
            "_view_count": null,
            "_view_module": "@jupyter-widgets/controls",
            "_view_module_version": "1.5.0",
            "_view_name": "HBoxView",
            "box_style": "",
            "children": [
              "IPY_MODEL_0a966fda79834ec5976ef05da6957deb",
              "IPY_MODEL_4e6df1bfc1d14ec38423fa7a3377b6b3",
              "IPY_MODEL_255ae23a68e24f1bb43acb618c43d36f"
            ],
            "layout": "IPY_MODEL_ebf64f0f3bc74824ad22e3b4931b9a85"
          }
        },
        "0a966fda79834ec5976ef05da6957deb": {
          "model_module": "@jupyter-widgets/controls",
          "model_name": "HTMLModel",
          "model_module_version": "1.5.0",
          "state": {
            "_dom_classes": [],
            "_model_module": "@jupyter-widgets/controls",
            "_model_module_version": "1.5.0",
            "_model_name": "HTMLModel",
            "_view_count": null,
            "_view_module": "@jupyter-widgets/controls",
            "_view_module_version": "1.5.0",
            "_view_name": "HTMLView",
            "description": "",
            "description_tooltip": null,
            "layout": "IPY_MODEL_834594ba86f44542a03d409636bda517",
            "placeholder": "​",
            "style": "IPY_MODEL_d716aaca92c04bc485fc292658944bd3",
            "value": "tokenizer.json: "
          }
        },
        "4e6df1bfc1d14ec38423fa7a3377b6b3": {
          "model_module": "@jupyter-widgets/controls",
          "model_name": "FloatProgressModel",
          "model_module_version": "1.5.0",
          "state": {
            "_dom_classes": [],
            "_model_module": "@jupyter-widgets/controls",
            "_model_module_version": "1.5.0",
            "_model_name": "FloatProgressModel",
            "_view_count": null,
            "_view_module": "@jupyter-widgets/controls",
            "_view_module_version": "1.5.0",
            "_view_name": "ProgressView",
            "bar_style": "success",
            "description": "",
            "description_tooltip": null,
            "layout": "IPY_MODEL_c9391efab6e34a6f8e7225332ed82bde",
            "max": 1,
            "min": 0,
            "orientation": "horizontal",
            "style": "IPY_MODEL_e8e83da2e8824a8dbc46e91a5890b18c",
            "value": 1
          }
        },
        "255ae23a68e24f1bb43acb618c43d36f": {
          "model_module": "@jupyter-widgets/controls",
          "model_name": "HTMLModel",
          "model_module_version": "1.5.0",
          "state": {
            "_dom_classes": [],
            "_model_module": "@jupyter-widgets/controls",
            "_model_module_version": "1.5.0",
            "_model_name": "HTMLModel",
            "_view_count": null,
            "_view_module": "@jupyter-widgets/controls",
            "_view_module_version": "1.5.0",
            "_view_name": "HTMLView",
            "description": "",
            "description_tooltip": null,
            "layout": "IPY_MODEL_1a5a764299b34ce0951135f0fdcec031",
            "placeholder": "​",
            "style": "IPY_MODEL_d2e637ff26334ce29f222630a6f48048",
            "value": " 2.24M/? [00:00&lt;00:00, 2.11MB/s]"
          }
        },
        "ebf64f0f3bc74824ad22e3b4931b9a85": {
          "model_module": "@jupyter-widgets/base",
          "model_name": "LayoutModel",
          "model_module_version": "1.2.0",
          "state": {
            "_model_module": "@jupyter-widgets/base",
            "_model_module_version": "1.2.0",
            "_model_name": "LayoutModel",
            "_view_count": null,
            "_view_module": "@jupyter-widgets/base",
            "_view_module_version": "1.2.0",
            "_view_name": "LayoutView",
            "align_content": null,
            "align_items": null,
            "align_self": null,
            "border": null,
            "bottom": null,
            "display": null,
            "flex": null,
            "flex_flow": null,
            "grid_area": null,
            "grid_auto_columns": null,
            "grid_auto_flow": null,
            "grid_auto_rows": null,
            "grid_column": null,
            "grid_gap": null,
            "grid_row": null,
            "grid_template_areas": null,
            "grid_template_columns": null,
            "grid_template_rows": null,
            "height": null,
            "justify_content": null,
            "justify_items": null,
            "left": null,
            "margin": null,
            "max_height": null,
            "max_width": null,
            "min_height": null,
            "min_width": null,
            "object_fit": null,
            "object_position": null,
            "order": null,
            "overflow": null,
            "overflow_x": null,
            "overflow_y": null,
            "padding": null,
            "right": null,
            "top": null,
            "visibility": null,
            "width": null
          }
        },
        "834594ba86f44542a03d409636bda517": {
          "model_module": "@jupyter-widgets/base",
          "model_name": "LayoutModel",
          "model_module_version": "1.2.0",
          "state": {
            "_model_module": "@jupyter-widgets/base",
            "_model_module_version": "1.2.0",
            "_model_name": "LayoutModel",
            "_view_count": null,
            "_view_module": "@jupyter-widgets/base",
            "_view_module_version": "1.2.0",
            "_view_name": "LayoutView",
            "align_content": null,
            "align_items": null,
            "align_self": null,
            "border": null,
            "bottom": null,
            "display": null,
            "flex": null,
            "flex_flow": null,
            "grid_area": null,
            "grid_auto_columns": null,
            "grid_auto_flow": null,
            "grid_auto_rows": null,
            "grid_column": null,
            "grid_gap": null,
            "grid_row": null,
            "grid_template_areas": null,
            "grid_template_columns": null,
            "grid_template_rows": null,
            "height": null,
            "justify_content": null,
            "justify_items": null,
            "left": null,
            "margin": null,
            "max_height": null,
            "max_width": null,
            "min_height": null,
            "min_width": null,
            "object_fit": null,
            "object_position": null,
            "order": null,
            "overflow": null,
            "overflow_x": null,
            "overflow_y": null,
            "padding": null,
            "right": null,
            "top": null,
            "visibility": null,
            "width": null
          }
        },
        "d716aaca92c04bc485fc292658944bd3": {
          "model_module": "@jupyter-widgets/controls",
          "model_name": "DescriptionStyleModel",
          "model_module_version": "1.5.0",
          "state": {
            "_model_module": "@jupyter-widgets/controls",
            "_model_module_version": "1.5.0",
            "_model_name": "DescriptionStyleModel",
            "_view_count": null,
            "_view_module": "@jupyter-widgets/base",
            "_view_module_version": "1.2.0",
            "_view_name": "StyleView",
            "description_width": ""
          }
        },
        "c9391efab6e34a6f8e7225332ed82bde": {
          "model_module": "@jupyter-widgets/base",
          "model_name": "LayoutModel",
          "model_module_version": "1.2.0",
          "state": {
            "_model_module": "@jupyter-widgets/base",
            "_model_module_version": "1.2.0",
            "_model_name": "LayoutModel",
            "_view_count": null,
            "_view_module": "@jupyter-widgets/base",
            "_view_module_version": "1.2.0",
            "_view_name": "LayoutView",
            "align_content": null,
            "align_items": null,
            "align_self": null,
            "border": null,
            "bottom": null,
            "display": null,
            "flex": null,
            "flex_flow": null,
            "grid_area": null,
            "grid_auto_columns": null,
            "grid_auto_flow": null,
            "grid_auto_rows": null,
            "grid_column": null,
            "grid_gap": null,
            "grid_row": null,
            "grid_template_areas": null,
            "grid_template_columns": null,
            "grid_template_rows": null,
            "height": null,
            "justify_content": null,
            "justify_items": null,
            "left": null,
            "margin": null,
            "max_height": null,
            "max_width": null,
            "min_height": null,
            "min_width": null,
            "object_fit": null,
            "object_position": null,
            "order": null,
            "overflow": null,
            "overflow_x": null,
            "overflow_y": null,
            "padding": null,
            "right": null,
            "top": null,
            "visibility": null,
            "width": "20px"
          }
        },
        "e8e83da2e8824a8dbc46e91a5890b18c": {
          "model_module": "@jupyter-widgets/controls",
          "model_name": "ProgressStyleModel",
          "model_module_version": "1.5.0",
          "state": {
            "_model_module": "@jupyter-widgets/controls",
            "_model_module_version": "1.5.0",
            "_model_name": "ProgressStyleModel",
            "_view_count": null,
            "_view_module": "@jupyter-widgets/base",
            "_view_module_version": "1.2.0",
            "_view_name": "StyleView",
            "bar_color": null,
            "description_width": ""
          }
        },
        "1a5a764299b34ce0951135f0fdcec031": {
          "model_module": "@jupyter-widgets/base",
          "model_name": "LayoutModel",
          "model_module_version": "1.2.0",
          "state": {
            "_model_module": "@jupyter-widgets/base",
            "_model_module_version": "1.2.0",
            "_model_name": "LayoutModel",
            "_view_count": null,
            "_view_module": "@jupyter-widgets/base",
            "_view_module_version": "1.2.0",
            "_view_name": "LayoutView",
            "align_content": null,
            "align_items": null,
            "align_self": null,
            "border": null,
            "bottom": null,
            "display": null,
            "flex": null,
            "flex_flow": null,
            "grid_area": null,
            "grid_auto_columns": null,
            "grid_auto_flow": null,
            "grid_auto_rows": null,
            "grid_column": null,
            "grid_gap": null,
            "grid_row": null,
            "grid_template_areas": null,
            "grid_template_columns": null,
            "grid_template_rows": null,
            "height": null,
            "justify_content": null,
            "justify_items": null,
            "left": null,
            "margin": null,
            "max_height": null,
            "max_width": null,
            "min_height": null,
            "min_width": null,
            "object_fit": null,
            "object_position": null,
            "order": null,
            "overflow": null,
            "overflow_x": null,
            "overflow_y": null,
            "padding": null,
            "right": null,
            "top": null,
            "visibility": null,
            "width": null
          }
        },
        "d2e637ff26334ce29f222630a6f48048": {
          "model_module": "@jupyter-widgets/controls",
          "model_name": "DescriptionStyleModel",
          "model_module_version": "1.5.0",
          "state": {
            "_model_module": "@jupyter-widgets/controls",
            "_model_module_version": "1.5.0",
            "_model_name": "DescriptionStyleModel",
            "_view_count": null,
            "_view_module": "@jupyter-widgets/base",
            "_view_module_version": "1.2.0",
            "_view_name": "StyleView",
            "description_width": ""
          }
        },
        "28bfc85fd89043f784f3f684e2a24639": {
          "model_module": "@jupyter-widgets/controls",
          "model_name": "HBoxModel",
          "model_module_version": "1.5.0",
          "state": {
            "_dom_classes": [],
            "_model_module": "@jupyter-widgets/controls",
            "_model_module_version": "1.5.0",
            "_model_name": "HBoxModel",
            "_view_count": null,
            "_view_module": "@jupyter-widgets/controls",
            "_view_module_version": "1.5.0",
            "_view_name": "HBoxView",
            "box_style": "",
            "children": [
              "IPY_MODEL_f5c948b0c37f410ab9eab2cac7f56acb",
              "IPY_MODEL_ad1e6751bc25424a932c2fe718373ea0",
              "IPY_MODEL_b7984a41666848e18305dd3efd2c53bc"
            ],
            "layout": "IPY_MODEL_562bc275404641c8b207f368c2158a7e"
          }
        },
        "f5c948b0c37f410ab9eab2cac7f56acb": {
          "model_module": "@jupyter-widgets/controls",
          "model_name": "HTMLModel",
          "model_module_version": "1.5.0",
          "state": {
            "_dom_classes": [],
            "_model_module": "@jupyter-widgets/controls",
            "_model_module_version": "1.5.0",
            "_model_name": "HTMLModel",
            "_view_count": null,
            "_view_module": "@jupyter-widgets/controls",
            "_view_module_version": "1.5.0",
            "_view_name": "HTMLView",
            "description": "",
            "description_tooltip": null,
            "layout": "IPY_MODEL_9ed75019d2864906ac46cebf0a77ff12",
            "placeholder": "​",
            "style": "IPY_MODEL_6a725c7fdb594358937401914fb97ff8",
            "value": "special_tokens_map.json: 100%"
          }
        },
        "ad1e6751bc25424a932c2fe718373ea0": {
          "model_module": "@jupyter-widgets/controls",
          "model_name": "FloatProgressModel",
          "model_module_version": "1.5.0",
          "state": {
            "_dom_classes": [],
            "_model_module": "@jupyter-widgets/controls",
            "_model_module_version": "1.5.0",
            "_model_name": "FloatProgressModel",
            "_view_count": null,
            "_view_module": "@jupyter-widgets/controls",
            "_view_module_version": "1.5.0",
            "_view_name": "ProgressView",
            "bar_style": "success",
            "description": "",
            "description_tooltip": null,
            "layout": "IPY_MODEL_86c4fe5e829f41f3b74efe9cb46eb62a",
            "max": 772,
            "min": 0,
            "orientation": "horizontal",
            "style": "IPY_MODEL_f9d6355ad1f2419292aac0141f8190df",
            "value": 772
          }
        },
        "b7984a41666848e18305dd3efd2c53bc": {
          "model_module": "@jupyter-widgets/controls",
          "model_name": "HTMLModel",
          "model_module_version": "1.5.0",
          "state": {
            "_dom_classes": [],
            "_model_module": "@jupyter-widgets/controls",
            "_model_module_version": "1.5.0",
            "_model_name": "HTMLModel",
            "_view_count": null,
            "_view_module": "@jupyter-widgets/controls",
            "_view_module_version": "1.5.0",
            "_view_name": "HTMLView",
            "description": "",
            "description_tooltip": null,
            "layout": "IPY_MODEL_d5bf619aa3034c14bc2fdf8102f9b752",
            "placeholder": "​",
            "style": "IPY_MODEL_7a293dd6f07f48b2bdbece224a61a40f",
            "value": " 772/772 [00:00&lt;00:00, 10.1kB/s]"
          }
        },
        "562bc275404641c8b207f368c2158a7e": {
          "model_module": "@jupyter-widgets/base",
          "model_name": "LayoutModel",
          "model_module_version": "1.2.0",
          "state": {
            "_model_module": "@jupyter-widgets/base",
            "_model_module_version": "1.2.0",
            "_model_name": "LayoutModel",
            "_view_count": null,
            "_view_module": "@jupyter-widgets/base",
            "_view_module_version": "1.2.0",
            "_view_name": "LayoutView",
            "align_content": null,
            "align_items": null,
            "align_self": null,
            "border": null,
            "bottom": null,
            "display": null,
            "flex": null,
            "flex_flow": null,
            "grid_area": null,
            "grid_auto_columns": null,
            "grid_auto_flow": null,
            "grid_auto_rows": null,
            "grid_column": null,
            "grid_gap": null,
            "grid_row": null,
            "grid_template_areas": null,
            "grid_template_columns": null,
            "grid_template_rows": null,
            "height": null,
            "justify_content": null,
            "justify_items": null,
            "left": null,
            "margin": null,
            "max_height": null,
            "max_width": null,
            "min_height": null,
            "min_width": null,
            "object_fit": null,
            "object_position": null,
            "order": null,
            "overflow": null,
            "overflow_x": null,
            "overflow_y": null,
            "padding": null,
            "right": null,
            "top": null,
            "visibility": null,
            "width": null
          }
        },
        "9ed75019d2864906ac46cebf0a77ff12": {
          "model_module": "@jupyter-widgets/base",
          "model_name": "LayoutModel",
          "model_module_version": "1.2.0",
          "state": {
            "_model_module": "@jupyter-widgets/base",
            "_model_module_version": "1.2.0",
            "_model_name": "LayoutModel",
            "_view_count": null,
            "_view_module": "@jupyter-widgets/base",
            "_view_module_version": "1.2.0",
            "_view_name": "LayoutView",
            "align_content": null,
            "align_items": null,
            "align_self": null,
            "border": null,
            "bottom": null,
            "display": null,
            "flex": null,
            "flex_flow": null,
            "grid_area": null,
            "grid_auto_columns": null,
            "grid_auto_flow": null,
            "grid_auto_rows": null,
            "grid_column": null,
            "grid_gap": null,
            "grid_row": null,
            "grid_template_areas": null,
            "grid_template_columns": null,
            "grid_template_rows": null,
            "height": null,
            "justify_content": null,
            "justify_items": null,
            "left": null,
            "margin": null,
            "max_height": null,
            "max_width": null,
            "min_height": null,
            "min_width": null,
            "object_fit": null,
            "object_position": null,
            "order": null,
            "overflow": null,
            "overflow_x": null,
            "overflow_y": null,
            "padding": null,
            "right": null,
            "top": null,
            "visibility": null,
            "width": null
          }
        },
        "6a725c7fdb594358937401914fb97ff8": {
          "model_module": "@jupyter-widgets/controls",
          "model_name": "DescriptionStyleModel",
          "model_module_version": "1.5.0",
          "state": {
            "_model_module": "@jupyter-widgets/controls",
            "_model_module_version": "1.5.0",
            "_model_name": "DescriptionStyleModel",
            "_view_count": null,
            "_view_module": "@jupyter-widgets/base",
            "_view_module_version": "1.2.0",
            "_view_name": "StyleView",
            "description_width": ""
          }
        },
        "86c4fe5e829f41f3b74efe9cb46eb62a": {
          "model_module": "@jupyter-widgets/base",
          "model_name": "LayoutModel",
          "model_module_version": "1.2.0",
          "state": {
            "_model_module": "@jupyter-widgets/base",
            "_model_module_version": "1.2.0",
            "_model_name": "LayoutModel",
            "_view_count": null,
            "_view_module": "@jupyter-widgets/base",
            "_view_module_version": "1.2.0",
            "_view_name": "LayoutView",
            "align_content": null,
            "align_items": null,
            "align_self": null,
            "border": null,
            "bottom": null,
            "display": null,
            "flex": null,
            "flex_flow": null,
            "grid_area": null,
            "grid_auto_columns": null,
            "grid_auto_flow": null,
            "grid_auto_rows": null,
            "grid_column": null,
            "grid_gap": null,
            "grid_row": null,
            "grid_template_areas": null,
            "grid_template_columns": null,
            "grid_template_rows": null,
            "height": null,
            "justify_content": null,
            "justify_items": null,
            "left": null,
            "margin": null,
            "max_height": null,
            "max_width": null,
            "min_height": null,
            "min_width": null,
            "object_fit": null,
            "object_position": null,
            "order": null,
            "overflow": null,
            "overflow_x": null,
            "overflow_y": null,
            "padding": null,
            "right": null,
            "top": null,
            "visibility": null,
            "width": null
          }
        },
        "f9d6355ad1f2419292aac0141f8190df": {
          "model_module": "@jupyter-widgets/controls",
          "model_name": "ProgressStyleModel",
          "model_module_version": "1.5.0",
          "state": {
            "_model_module": "@jupyter-widgets/controls",
            "_model_module_version": "1.5.0",
            "_model_name": "ProgressStyleModel",
            "_view_count": null,
            "_view_module": "@jupyter-widgets/base",
            "_view_module_version": "1.2.0",
            "_view_name": "StyleView",
            "bar_color": null,
            "description_width": ""
          }
        },
        "d5bf619aa3034c14bc2fdf8102f9b752": {
          "model_module": "@jupyter-widgets/base",
          "model_name": "LayoutModel",
          "model_module_version": "1.2.0",
          "state": {
            "_model_module": "@jupyter-widgets/base",
            "_model_module_version": "1.2.0",
            "_model_name": "LayoutModel",
            "_view_count": null,
            "_view_module": "@jupyter-widgets/base",
            "_view_module_version": "1.2.0",
            "_view_name": "LayoutView",
            "align_content": null,
            "align_items": null,
            "align_self": null,
            "border": null,
            "bottom": null,
            "display": null,
            "flex": null,
            "flex_flow": null,
            "grid_area": null,
            "grid_auto_columns": null,
            "grid_auto_flow": null,
            "grid_auto_rows": null,
            "grid_column": null,
            "grid_gap": null,
            "grid_row": null,
            "grid_template_areas": null,
            "grid_template_columns": null,
            "grid_template_rows": null,
            "height": null,
            "justify_content": null,
            "justify_items": null,
            "left": null,
            "margin": null,
            "max_height": null,
            "max_width": null,
            "min_height": null,
            "min_width": null,
            "object_fit": null,
            "object_position": null,
            "order": null,
            "overflow": null,
            "overflow_x": null,
            "overflow_y": null,
            "padding": null,
            "right": null,
            "top": null,
            "visibility": null,
            "width": null
          }
        },
        "7a293dd6f07f48b2bdbece224a61a40f": {
          "model_module": "@jupyter-widgets/controls",
          "model_name": "DescriptionStyleModel",
          "model_module_version": "1.5.0",
          "state": {
            "_model_module": "@jupyter-widgets/controls",
            "_model_module_version": "1.5.0",
            "_model_name": "DescriptionStyleModel",
            "_view_count": null,
            "_view_module": "@jupyter-widgets/base",
            "_view_module_version": "1.2.0",
            "_view_name": "StyleView",
            "description_width": ""
          }
        }
      }
    }
  },
  "cells": [
    {
      "cell_type": "markdown",
      "metadata": {
        "id": "view-in-github",
        "colab_type": "text"
      },
      "source": [
        "<a href=\"https://colab.research.google.com/github/gabrielcarcedo/Taller-Pre-Congreso-CNIB-2025-ML-en-Datos-Medicos/blob/main/Notebooks/Taller_Pre_Congreso_NLP_medical_reports.ipynb\" target=\"_parent\"><img src=\"https://colab.research.google.com/assets/colab-badge.svg\" alt=\"Open In Colab\"/></a>"
      ]
    },
    {
      "cell_type": "markdown",
      "source": [
        "# **Machine Learning para Procesamiento de Datos Médicos**\n",
        "---\n",
        "## Taller Pre-Congreso CNIB 2025\n",
        "---\n",
        "<table>\n",
        "  <tr>\n",
        "      <h4><b>ISC. Gabriel Carcedo Rodríguez</b> (<i>PCIC - IIMAS, UNAM</i>): <a href= \"mailto:gabrielcarcedo@comunidad.unam.mx\">gabrielcarcedo@comunidad.unam.mx</a>\n",
        "      <br>\n",
        "      <br>\n",
        "      <b>Ing. Ismael Pérez Ruiz</b> (<i>Universidad Modelo</i>): <a href= \"mailto:CORREO\">CORREO</a>\n",
        "      <br>\n",
        "      <br>\n",
        "      <b>LCC. Victoria May Balam</b> (<i>PCIC - IIMAS, UNAM</i>): <a href= \"mailto:victoria.mbalam@comunidad.unam.mx\">victoria.mbalam@comunidad.unam.mx</a> </h4>\n",
        "  </tr>\n",
        "  <tr>\n",
        "    <td width=\"60%\" valign=\"top\">\n",
        "      <!-- Content for Column 1 -->\n",
        "      <br>\n",
        "      <br>\n",
        "      <a href=\"https://www.pcic.unam.mx/\">Posgrado en Ciencia e Ingeniería de la Computación</a>\n",
        "    </td>\n",
        "    <td width=\"40%\" valign=\"top\" style=\"text-align: center;\">\n",
        "      <!-- Content for Column 2 -->\n",
        "      <a href=\"https://www.pcic.unam.mx/\">\n",
        "        <img src=\"https://pcic.posgrado.unam.mx/wp-content/uploads/Ciencia-e-Ingenieria-de-la-Computacion_color.png\" alt=\"PCIC\" style=\"width:100%; height:auto;\">\n",
        "      </a>\n",
        "    </td>\n",
        "  </tr>\n",
        "  <tr>\n",
        "    <td width=\"60%\" valign=\"top\">\n",
        "      <!-- Content for Column 1 -->\n",
        "      <br>\n",
        "      <br>\n",
        "      <a href=\"https://www.unimodelo.edu.mx/merida\">Universidad Modelo</a>\n",
        "    </td>\n",
        "    <td width=\"40%\" valign=\"top\" style=\"text-align: center;\">\n",
        "      <!-- Content for Column 2 -->\n",
        "      <a href=\"https://www.unimodelo.edu.mx/merida\">\n",
        "        <img src=\"https://servicios.unimodelo.edu.mx/merida/ing/practicas/resources/imgs/logo-modelo.png\" alt=\"Universidad Modelo\" style=\"width:100%; height:auto;\">\n",
        "      </a>\n",
        "    </td>\n",
        "  </tr>\n",
        "\n",
        "</table>\n",
        "\n",
        "\n",
        "Nota: Libreta inspirada en la clase de NLP en medical reports de la Dra. Helena Gómez Adorno y Diego Hernández Bustamante durante la Escuela Híbrida de Verano \"Medical Informatics with Artificial Intelligence\" *UNAM-TUBS*"
      ],
      "metadata": {
        "id": "jptMtMzE7JCx"
      }
    },
    {
      "cell_type": "code",
      "execution_count": 1,
      "metadata": {
        "colab": {
          "base_uri": "https://localhost:8080/"
        },
        "id": "bPgngR0c67dt",
        "outputId": "b78e4bc6-aa9e-4ef7-91d9-ba98cd741b45"
      },
      "outputs": [
        {
          "output_type": "stream",
          "name": "stdout",
          "text": [
            "Collecting es-core-news-md==3.8.0\n",
            "  Downloading https://github.com/explosion/spacy-models/releases/download/es_core_news_md-3.8.0/es_core_news_md-3.8.0-py3-none-any.whl (42.3 MB)\n",
            "\u001b[2K     \u001b[90m━━━━━━━━━━━━━━━━━━━━━━━━━━━━━━━━━━━━━━━━\u001b[0m \u001b[32m42.3/42.3 MB\u001b[0m \u001b[31m22.2 MB/s\u001b[0m eta \u001b[36m0:00:00\u001b[0m\n",
            "\u001b[?25h\u001b[38;5;2m✔ Download and installation successful\u001b[0m\n",
            "You can now load the package via spacy.load('es_core_news_md')\n",
            "\u001b[38;5;3m⚠ Restart to reload dependencies\u001b[0m\n",
            "If you are in a Jupyter or Colab notebook, you may need to restart Python in\n",
            "order to load all the package's dependencies. You can do this by selecting the\n",
            "'Restart kernel' or 'Restart runtime' option.\n"
          ]
        }
      ],
      "source": [
        "#@markdown # Install spaCy and Download Spanish Language Model\n",
        "!pip -q install spacy\n",
        "!python -m spacy download es_core_news_md"
      ]
    },
    {
      "cell_type": "code",
      "source": [
        "# Using short Electronic Medical Report (EMR)\n",
        "emr = [\n",
        "\"\"\"Paciente mujer de 45 años. Niega fiebre. Refiere dolor torácico desde hace 2 días y disnea leve.\n",
        "Se indica paracetamol 500 mg cada 8 h. Examen: crepitantes en base pulmonar derecha.\"\"\",\n",
        "\"\"\"Varón de 62 años con DM2 en control. Sin tos ni cefalea. Se prescribe metformina 850 mg 2 veces al día.\n",
        "Dolor abdominal intermitente; descarta vómito. Amoxicilina 500 mg c/12h por 7 días.\"\"\",\n",
        "\"\"\"Paciente masculino 30 años. Faringitis; ibuprofeno 400mg cada 8h. Niega disnea. Ausencia de fiebre.\n",
        "Dolor en garganta y adenopatías cervicales.\"\"\"\n",
        "]"
      ],
      "metadata": {
        "id": "5vxyt7a_70Nl"
      },
      "execution_count": 2,
      "outputs": []
    },
    {
      "cell_type": "markdown",
      "source": [
        "# Building a simple **Named Entity Recognition (NER)** system without using machine learning models"
      ],
      "metadata": {
        "id": "73Zky_Pu8k5J"
      }
    },
    {
      "cell_type": "code",
      "source": [
        "# Import regex for pattern matching, json for data handling\n",
        "import re, json\n",
        "\n",
        "# Import spaCy for natural language processing\n",
        "import spacy\n",
        "\n",
        "# Import EntityRuler for custom entity recognition patterns\n",
        "from spacy.pipeline import EntityRuler\n",
        "\n",
        "# Load Spanish language model (medium size, excluding named entity recognition)\n",
        "nlp = spacy.load(\"es_core_news_md\",  exclude=[\"ner\"])"
      ],
      "metadata": {
        "id": "-ddBPpHG8Cpr"
      },
      "execution_count": 3,
      "outputs": []
    },
    {
      "cell_type": "code",
      "source": [
        "# Define medical terminology lists\n",
        "\n",
        "MEDICAMENTOS = [\"paracetamol\",\"metformina\",\"amoxicilina\",\"ibuprofeno\",\"naproxeno\",\"omeprazol\"]  # Medications\n",
        "\n",
        "SINTOMAS = [\"fiebre\",\"tos\",\"cefalea\",\"disnea\",\"vómito\",\"dolor\",\"faringitis\",\"adenopatías\",\"náusea\"]  # Symptoms\n",
        "\n",
        "ANATOMIA = [\"pulmonar\",\"pulmón\",\"torácico\",\"garganta\",\"abdomen\",\"cervicales\",\"corazón\"]  # Anatomy terms"
      ],
      "metadata": {
        "id": "idfiJW-68t3h"
      },
      "execution_count": 4,
      "outputs": []
    },
    {
      "cell_type": "code",
      "source": [
        "# Helper function to create entity patterns from word lists\n",
        "\n",
        "def dict_patterns(terms, label):\n",
        "    return [{\"label\": label, \"pattern\": [{\"LOWER\": t.lower()}]} for t in terms]"
      ],
      "metadata": {
        "id": "MBQGivPc81Pm"
      },
      "execution_count": 5,
      "outputs": []
    },
    {
      "cell_type": "markdown",
      "source": [
        "## Patterns List"
      ],
      "metadata": {
        "id": "qZwN0CtP9dwp"
      }
    },
    {
      "cell_type": "code",
      "source": [
        "# Initialize patterns list\n",
        "patterns = []"
      ],
      "metadata": {
        "id": "di161P2186tT"
      },
      "execution_count": 6,
      "outputs": []
    },
    {
      "cell_type": "code",
      "source": [
        "# Add medication patterns\n",
        "patterns += dict_patterns(MEDICAMENTOS, \"MEDICAMENTO\")\n",
        "patterns"
      ],
      "metadata": {
        "colab": {
          "base_uri": "https://localhost:8080/"
        },
        "id": "rbBVhKXM9C7t",
        "outputId": "4a34fc24-64b9-4eed-802e-48cb96643589"
      },
      "execution_count": 7,
      "outputs": [
        {
          "output_type": "execute_result",
          "data": {
            "text/plain": [
              "[{'label': 'MEDICAMENTO', 'pattern': [{'LOWER': 'paracetamol'}]},\n",
              " {'label': 'MEDICAMENTO', 'pattern': [{'LOWER': 'metformina'}]},\n",
              " {'label': 'MEDICAMENTO', 'pattern': [{'LOWER': 'amoxicilina'}]},\n",
              " {'label': 'MEDICAMENTO', 'pattern': [{'LOWER': 'ibuprofeno'}]},\n",
              " {'label': 'MEDICAMENTO', 'pattern': [{'LOWER': 'naproxeno'}]},\n",
              " {'label': 'MEDICAMENTO', 'pattern': [{'LOWER': 'omeprazol'}]}]"
            ]
          },
          "metadata": {},
          "execution_count": 7
        }
      ]
    },
    {
      "cell_type": "code",
      "source": [
        "# Add dosage patterns (e.g., \"500 mg\")\n",
        "patterns += [{\"label\":\"DOSIS\", \"pattern\": [{\"TEXT\":{\"REGEX\": r\"^\\d+(\\.\\d+)?$\"}},{\"LOWER\":{\"IN\":[\"mg\",\"ml\",\"mcg\"]}}]}]\n",
        "patterns"
      ],
      "metadata": {
        "colab": {
          "base_uri": "https://localhost:8080/"
        },
        "id": "ygWsdiMs9FkZ",
        "outputId": "233df59c-60cc-4f2d-a101-5259ae02aa84"
      },
      "execution_count": 8,
      "outputs": [
        {
          "output_type": "execute_result",
          "data": {
            "text/plain": [
              "[{'label': 'MEDICAMENTO', 'pattern': [{'LOWER': 'paracetamol'}]},\n",
              " {'label': 'MEDICAMENTO', 'pattern': [{'LOWER': 'metformina'}]},\n",
              " {'label': 'MEDICAMENTO', 'pattern': [{'LOWER': 'amoxicilina'}]},\n",
              " {'label': 'MEDICAMENTO', 'pattern': [{'LOWER': 'ibuprofeno'}]},\n",
              " {'label': 'MEDICAMENTO', 'pattern': [{'LOWER': 'naproxeno'}]},\n",
              " {'label': 'MEDICAMENTO', 'pattern': [{'LOWER': 'omeprazol'}]},\n",
              " {'label': 'DOSIS',\n",
              "  'pattern': [{'TEXT': {'REGEX': '^\\\\d+(\\\\.\\\\d+)?$'}},\n",
              "   {'LOWER': {'IN': ['mg', 'ml', 'mcg']}}]}]"
            ]
          },
          "metadata": {},
          "execution_count": 8
        }
      ]
    },
    {
      "cell_type": "code",
      "source": [
        "# Add dosage patterns without space (e.g., \"400mg\")\n",
        "patterns += [{\"label\":\"DOSIS\", \"pattern\": [{\"TEXT\":{\"REGEX\": r\"^\\d+(\\.\\d+)?(mg|ml|mcg)$\"}}]}]\n",
        "patterns"
      ],
      "metadata": {
        "colab": {
          "base_uri": "https://localhost:8080/"
        },
        "id": "wnOPZswj9JAg",
        "outputId": "90061cf3-e8bc-49d1-b9c1-9bdda01eb792"
      },
      "execution_count": 9,
      "outputs": [
        {
          "output_type": "execute_result",
          "data": {
            "text/plain": [
              "[{'label': 'MEDICAMENTO', 'pattern': [{'LOWER': 'paracetamol'}]},\n",
              " {'label': 'MEDICAMENTO', 'pattern': [{'LOWER': 'metformina'}]},\n",
              " {'label': 'MEDICAMENTO', 'pattern': [{'LOWER': 'amoxicilina'}]},\n",
              " {'label': 'MEDICAMENTO', 'pattern': [{'LOWER': 'ibuprofeno'}]},\n",
              " {'label': 'MEDICAMENTO', 'pattern': [{'LOWER': 'naproxeno'}]},\n",
              " {'label': 'MEDICAMENTO', 'pattern': [{'LOWER': 'omeprazol'}]},\n",
              " {'label': 'DOSIS',\n",
              "  'pattern': [{'TEXT': {'REGEX': '^\\\\d+(\\\\.\\\\d+)?$'}},\n",
              "   {'LOWER': {'IN': ['mg', 'ml', 'mcg']}}]},\n",
              " {'label': 'DOSIS',\n",
              "  'pattern': [{'TEXT': {'REGEX': '^\\\\d+(\\\\.\\\\d+)?(mg|ml|mcg)$'}}]}]"
            ]
          },
          "metadata": {},
          "execution_count": 9
        }
      ]
    },
    {
      "cell_type": "code",
      "source": [
        "# Add frequency patterns (e.g., \"cada 8 horas\")\n",
        "patterns += [{\"label\":\"FRECUENCIA\", \"pattern\": [{\"LOWER\":{\"IN\":[\"cada\",\"c/\",\"veces\"]}}, {\"IS_ALPHA\": True, \"OP\":\"*\"}]}]\n",
        "patterns"
      ],
      "metadata": {
        "colab": {
          "base_uri": "https://localhost:8080/"
        },
        "id": "_3RgIEfm9NcP",
        "outputId": "81e36fd7-c0b8-4e7e-b83a-2373b58bf997"
      },
      "execution_count": 10,
      "outputs": [
        {
          "output_type": "execute_result",
          "data": {
            "text/plain": [
              "[{'label': 'MEDICAMENTO', 'pattern': [{'LOWER': 'paracetamol'}]},\n",
              " {'label': 'MEDICAMENTO', 'pattern': [{'LOWER': 'metformina'}]},\n",
              " {'label': 'MEDICAMENTO', 'pattern': [{'LOWER': 'amoxicilina'}]},\n",
              " {'label': 'MEDICAMENTO', 'pattern': [{'LOWER': 'ibuprofeno'}]},\n",
              " {'label': 'MEDICAMENTO', 'pattern': [{'LOWER': 'naproxeno'}]},\n",
              " {'label': 'MEDICAMENTO', 'pattern': [{'LOWER': 'omeprazol'}]},\n",
              " {'label': 'DOSIS',\n",
              "  'pattern': [{'TEXT': {'REGEX': '^\\\\d+(\\\\.\\\\d+)?$'}},\n",
              "   {'LOWER': {'IN': ['mg', 'ml', 'mcg']}}]},\n",
              " {'label': 'DOSIS',\n",
              "  'pattern': [{'TEXT': {'REGEX': '^\\\\d+(\\\\.\\\\d+)?(mg|ml|mcg)$'}}]},\n",
              " {'label': 'FRECUENCIA',\n",
              "  'pattern': [{'LOWER': {'IN': ['cada', 'c/', 'veces']}},\n",
              "   {'IS_ALPHA': True, 'OP': '*'}]}]"
            ]
          },
          "metadata": {},
          "execution_count": 10
        }
      ]
    },
    {
      "cell_type": "code",
      "source": [
        "# Add symptom patterns\n",
        "patterns += dict_patterns(SINTOMAS, \"SINTOMA\")\n",
        "patterns"
      ],
      "metadata": {
        "colab": {
          "base_uri": "https://localhost:8080/"
        },
        "id": "a_f_jnMs9RKp",
        "outputId": "af46aba0-918c-4958-99ad-a4ab5bc07127"
      },
      "execution_count": 11,
      "outputs": [
        {
          "output_type": "execute_result",
          "data": {
            "text/plain": [
              "[{'label': 'MEDICAMENTO', 'pattern': [{'LOWER': 'paracetamol'}]},\n",
              " {'label': 'MEDICAMENTO', 'pattern': [{'LOWER': 'metformina'}]},\n",
              " {'label': 'MEDICAMENTO', 'pattern': [{'LOWER': 'amoxicilina'}]},\n",
              " {'label': 'MEDICAMENTO', 'pattern': [{'LOWER': 'ibuprofeno'}]},\n",
              " {'label': 'MEDICAMENTO', 'pattern': [{'LOWER': 'naproxeno'}]},\n",
              " {'label': 'MEDICAMENTO', 'pattern': [{'LOWER': 'omeprazol'}]},\n",
              " {'label': 'DOSIS',\n",
              "  'pattern': [{'TEXT': {'REGEX': '^\\\\d+(\\\\.\\\\d+)?$'}},\n",
              "   {'LOWER': {'IN': ['mg', 'ml', 'mcg']}}]},\n",
              " {'label': 'DOSIS',\n",
              "  'pattern': [{'TEXT': {'REGEX': '^\\\\d+(\\\\.\\\\d+)?(mg|ml|mcg)$'}}]},\n",
              " {'label': 'FRECUENCIA',\n",
              "  'pattern': [{'LOWER': {'IN': ['cada', 'c/', 'veces']}},\n",
              "   {'IS_ALPHA': True, 'OP': '*'}]},\n",
              " {'label': 'SINTOMA', 'pattern': [{'LOWER': 'fiebre'}]},\n",
              " {'label': 'SINTOMA', 'pattern': [{'LOWER': 'tos'}]},\n",
              " {'label': 'SINTOMA', 'pattern': [{'LOWER': 'cefalea'}]},\n",
              " {'label': 'SINTOMA', 'pattern': [{'LOWER': 'disnea'}]},\n",
              " {'label': 'SINTOMA', 'pattern': [{'LOWER': 'vómito'}]},\n",
              " {'label': 'SINTOMA', 'pattern': [{'LOWER': 'dolor'}]},\n",
              " {'label': 'SINTOMA', 'pattern': [{'LOWER': 'faringitis'}]},\n",
              " {'label': 'SINTOMA', 'pattern': [{'LOWER': 'adenopatías'}]},\n",
              " {'label': 'SINTOMA', 'pattern': [{'LOWER': 'náusea'}]}]"
            ]
          },
          "metadata": {},
          "execution_count": 11
        }
      ]
    },
    {
      "cell_type": "code",
      "source": [
        "# Add anatomy patterns\n",
        "patterns += dict_patterns(ANATOMIA, \"ANATOMIA\")\n",
        "patterns"
      ],
      "metadata": {
        "colab": {
          "base_uri": "https://localhost:8080/"
        },
        "id": "fmSIvrYn9TL9",
        "outputId": "088b1f0b-ad00-4533-ed1c-c46f73b3f90c"
      },
      "execution_count": 12,
      "outputs": [
        {
          "output_type": "execute_result",
          "data": {
            "text/plain": [
              "[{'label': 'MEDICAMENTO', 'pattern': [{'LOWER': 'paracetamol'}]},\n",
              " {'label': 'MEDICAMENTO', 'pattern': [{'LOWER': 'metformina'}]},\n",
              " {'label': 'MEDICAMENTO', 'pattern': [{'LOWER': 'amoxicilina'}]},\n",
              " {'label': 'MEDICAMENTO', 'pattern': [{'LOWER': 'ibuprofeno'}]},\n",
              " {'label': 'MEDICAMENTO', 'pattern': [{'LOWER': 'naproxeno'}]},\n",
              " {'label': 'MEDICAMENTO', 'pattern': [{'LOWER': 'omeprazol'}]},\n",
              " {'label': 'DOSIS',\n",
              "  'pattern': [{'TEXT': {'REGEX': '^\\\\d+(\\\\.\\\\d+)?$'}},\n",
              "   {'LOWER': {'IN': ['mg', 'ml', 'mcg']}}]},\n",
              " {'label': 'DOSIS',\n",
              "  'pattern': [{'TEXT': {'REGEX': '^\\\\d+(\\\\.\\\\d+)?(mg|ml|mcg)$'}}]},\n",
              " {'label': 'FRECUENCIA',\n",
              "  'pattern': [{'LOWER': {'IN': ['cada', 'c/', 'veces']}},\n",
              "   {'IS_ALPHA': True, 'OP': '*'}]},\n",
              " {'label': 'SINTOMA', 'pattern': [{'LOWER': 'fiebre'}]},\n",
              " {'label': 'SINTOMA', 'pattern': [{'LOWER': 'tos'}]},\n",
              " {'label': 'SINTOMA', 'pattern': [{'LOWER': 'cefalea'}]},\n",
              " {'label': 'SINTOMA', 'pattern': [{'LOWER': 'disnea'}]},\n",
              " {'label': 'SINTOMA', 'pattern': [{'LOWER': 'vómito'}]},\n",
              " {'label': 'SINTOMA', 'pattern': [{'LOWER': 'dolor'}]},\n",
              " {'label': 'SINTOMA', 'pattern': [{'LOWER': 'faringitis'}]},\n",
              " {'label': 'SINTOMA', 'pattern': [{'LOWER': 'adenopatías'}]},\n",
              " {'label': 'SINTOMA', 'pattern': [{'LOWER': 'náusea'}]},\n",
              " {'label': 'ANATOMIA', 'pattern': [{'LOWER': 'pulmonar'}]},\n",
              " {'label': 'ANATOMIA', 'pattern': [{'LOWER': 'pulmón'}]},\n",
              " {'label': 'ANATOMIA', 'pattern': [{'LOWER': 'torácico'}]},\n",
              " {'label': 'ANATOMIA', 'pattern': [{'LOWER': 'garganta'}]},\n",
              " {'label': 'ANATOMIA', 'pattern': [{'LOWER': 'abdomen'}]},\n",
              " {'label': 'ANATOMIA', 'pattern': [{'LOWER': 'cervicales'}]},\n",
              " {'label': 'ANATOMIA', 'pattern': [{'LOWER': 'corazón'}]}]"
            ]
          },
          "metadata": {},
          "execution_count": 12
        }
      ]
    },
    {
      "cell_type": "code",
      "source": [
        "# Add specific finding pattern\n",
        "patterns += [{\"label\":\"HALLAZGO\",\"pattern\":\"crepitantes\"}]  # Medical finding: \"crepitantes\" (crackles)\n",
        "patterns"
      ],
      "metadata": {
        "colab": {
          "base_uri": "https://localhost:8080/"
        },
        "id": "zExWcK7p9VXV",
        "outputId": "80b19da1-e52f-4ccd-a79e-84fbcc79127f"
      },
      "execution_count": 13,
      "outputs": [
        {
          "output_type": "execute_result",
          "data": {
            "text/plain": [
              "[{'label': 'MEDICAMENTO', 'pattern': [{'LOWER': 'paracetamol'}]},\n",
              " {'label': 'MEDICAMENTO', 'pattern': [{'LOWER': 'metformina'}]},\n",
              " {'label': 'MEDICAMENTO', 'pattern': [{'LOWER': 'amoxicilina'}]},\n",
              " {'label': 'MEDICAMENTO', 'pattern': [{'LOWER': 'ibuprofeno'}]},\n",
              " {'label': 'MEDICAMENTO', 'pattern': [{'LOWER': 'naproxeno'}]},\n",
              " {'label': 'MEDICAMENTO', 'pattern': [{'LOWER': 'omeprazol'}]},\n",
              " {'label': 'DOSIS',\n",
              "  'pattern': [{'TEXT': {'REGEX': '^\\\\d+(\\\\.\\\\d+)?$'}},\n",
              "   {'LOWER': {'IN': ['mg', 'ml', 'mcg']}}]},\n",
              " {'label': 'DOSIS',\n",
              "  'pattern': [{'TEXT': {'REGEX': '^\\\\d+(\\\\.\\\\d+)?(mg|ml|mcg)$'}}]},\n",
              " {'label': 'FRECUENCIA',\n",
              "  'pattern': [{'LOWER': {'IN': ['cada', 'c/', 'veces']}},\n",
              "   {'IS_ALPHA': True, 'OP': '*'}]},\n",
              " {'label': 'SINTOMA', 'pattern': [{'LOWER': 'fiebre'}]},\n",
              " {'label': 'SINTOMA', 'pattern': [{'LOWER': 'tos'}]},\n",
              " {'label': 'SINTOMA', 'pattern': [{'LOWER': 'cefalea'}]},\n",
              " {'label': 'SINTOMA', 'pattern': [{'LOWER': 'disnea'}]},\n",
              " {'label': 'SINTOMA', 'pattern': [{'LOWER': 'vómito'}]},\n",
              " {'label': 'SINTOMA', 'pattern': [{'LOWER': 'dolor'}]},\n",
              " {'label': 'SINTOMA', 'pattern': [{'LOWER': 'faringitis'}]},\n",
              " {'label': 'SINTOMA', 'pattern': [{'LOWER': 'adenopatías'}]},\n",
              " {'label': 'SINTOMA', 'pattern': [{'LOWER': 'náusea'}]},\n",
              " {'label': 'ANATOMIA', 'pattern': [{'LOWER': 'pulmonar'}]},\n",
              " {'label': 'ANATOMIA', 'pattern': [{'LOWER': 'pulmón'}]},\n",
              " {'label': 'ANATOMIA', 'pattern': [{'LOWER': 'torácico'}]},\n",
              " {'label': 'ANATOMIA', 'pattern': [{'LOWER': 'garganta'}]},\n",
              " {'label': 'ANATOMIA', 'pattern': [{'LOWER': 'abdomen'}]},\n",
              " {'label': 'ANATOMIA', 'pattern': [{'LOWER': 'cervicales'}]},\n",
              " {'label': 'ANATOMIA', 'pattern': [{'LOWER': 'corazón'}]},\n",
              " {'label': 'HALLAZGO', 'pattern': 'crepitantes'}]"
            ]
          },
          "metadata": {},
          "execution_count": 13
        }
      ]
    },
    {
      "cell_type": "markdown",
      "source": [
        "## Entity Ruler to spaCy pipeline"
      ],
      "metadata": {
        "id": "QB4QJcuV9lgi"
      }
    },
    {
      "cell_type": "code",
      "source": [
        "# Add custom entity ruler to spaCy pipeline, overwriting existing entities\n",
        "ruler = nlp.add_pipe(\"entity_ruler\", config={\"overwrite_ents\": True})\n",
        "\n",
        "# Register all defined patterns with the entity ruler\n",
        "ruler.add_patterns(patterns)\n",
        "\n",
        "print(ruler)"
      ],
      "metadata": {
        "colab": {
          "base_uri": "https://localhost:8080/"
        },
        "id": "lcbwYfVP9W-k",
        "outputId": "e8be0dbf-f89d-4508-8bac-63b77b96efc8"
      },
      "execution_count": 14,
      "outputs": [
        {
          "output_type": "stream",
          "name": "stdout",
          "text": [
            "<spacy.pipeline.entityruler.EntityRuler object at 0x7fe6274a6050>\n"
          ]
        }
      ]
    },
    {
      "cell_type": "markdown",
      "source": [
        "# Process each document in the **'emr'** collection"
      ],
      "metadata": {
        "id": "g5FVDQOe9-uo"
      }
    },
    {
      "cell_type": "code",
      "source": [
        "for i, txt in enumerate(emr, 1):  # Start enumeration at 1\n",
        "    # Apply NLP pipeline to text\n",
        "    doc = nlp(txt)\n",
        "\n",
        "    # Print document header\n",
        "    print(f\"\\n--- DOC {i} ---\\n{txt}\\n\")\n",
        "\n",
        "    # Print all identified entities with their positions\n",
        "    for ent in doc.ents:\n",
        "      print(f\"{ent.text} ({ent.label_}) [{ent.start_char}, {ent.end_char}]\")"
      ],
      "metadata": {
        "colab": {
          "base_uri": "https://localhost:8080/"
        },
        "id": "2FxBsExF9rxm",
        "outputId": "374bc3d1-5158-4021-a265-52fef5acc514"
      },
      "execution_count": 15,
      "outputs": [
        {
          "output_type": "stream",
          "name": "stdout",
          "text": [
            "\n",
            "--- DOC 1 ---\n",
            "Paciente mujer de 45 años. Niega fiebre. Refiere dolor torácico desde hace 2 días y disnea leve.\n",
            "Se indica paracetamol 500 mg cada 8 h. Examen: crepitantes en base pulmonar derecha.\n",
            "\n",
            "fiebre (SINTOMA) [33, 39]\n",
            "dolor (SINTOMA) [49, 54]\n",
            "torácico (ANATOMIA) [55, 63]\n",
            "disnea (SINTOMA) [84, 90]\n",
            "paracetamol (MEDICAMENTO) [107, 118]\n",
            "500 mg (DOSIS) [119, 125]\n",
            "cada (FRECUENCIA) [126, 130]\n",
            "crepitantes (HALLAZGO) [144, 155]\n",
            "pulmonar (ANATOMIA) [164, 172]\n",
            "\n",
            "--- DOC 2 ---\n",
            "Varón de 62 años con DM2 en control. Sin tos ni cefalea. Se prescribe metformina 850 mg 2 veces al día.\n",
            "Dolor abdominal intermitente; descarta vómito. Amoxicilina 500 mg c/12h por 7 días.\n",
            "\n",
            "tos (SINTOMA) [41, 44]\n",
            "cefalea (SINTOMA) [48, 55]\n",
            "metformina (MEDICAMENTO) [70, 80]\n",
            "850 mg (DOSIS) [81, 87]\n",
            "veces al día (FRECUENCIA) [90, 102]\n",
            "Dolor (SINTOMA) [104, 109]\n",
            "vómito (SINTOMA) [143, 149]\n",
            "Amoxicilina (MEDICAMENTO) [151, 162]\n",
            "500 mg (DOSIS) [163, 169]\n",
            "\n",
            "--- DOC 3 ---\n",
            "Paciente masculino 30 años. Faringitis; ibuprofeno 400mg cada 8h. Niega disnea. Ausencia de fiebre.\n",
            "Dolor en garganta y adenopatías cervicales.\n",
            "\n",
            "Faringitis (SINTOMA) [28, 38]\n",
            "ibuprofeno (MEDICAMENTO) [40, 50]\n",
            "400mg (DOSIS) [51, 56]\n",
            "cada (FRECUENCIA) [57, 61]\n",
            "disnea (SINTOMA) [72, 78]\n",
            "fiebre (SINTOMA) [92, 98]\n",
            "Dolor (SINTOMA) [100, 105]\n",
            "garganta (ANATOMIA) [109, 117]\n",
            "adenopatías (SINTOMA) [120, 131]\n",
            "cervicales (ANATOMIA) [132, 142]\n"
          ]
        }
      ]
    },
    {
      "cell_type": "markdown",
      "source": [
        "# Enhancement the extracted information with context and relations"
      ],
      "metadata": {
        "id": "-G6pZ33q-Xz1"
      }
    },
    {
      "cell_type": "code",
      "source": [
        "# Negation detection: Identify if a symptom or finding is explicitly negated (e.g., “niega fiebre” → Fever = NEGATED).\n",
        "\n",
        "NEG_CUES = [\"no\", \"sin\", \"niega\", \"descarta\", \"ausencia de\", \"niega tener\", \"no refiere\"]"
      ],
      "metadata": {
        "id": "gPYwIA7G-QY0"
      },
      "execution_count": 16,
      "outputs": []
    },
    {
      "cell_type": "code",
      "source": [
        "def detect_negation(doc, NEG_CUES, target_labels=(\"SINTOMA\",\"HALLAZGO\",\"PROBLEMA\")):\n",
        "    results = []\n",
        "    for ent in doc.ents:\n",
        "        if ent.label_ in target_labels:\n",
        "            # Look back up to 5 tokens in the same sentence for a negation cue\n",
        "            sent = ent.sent\n",
        "            window = doc[ max(sent.start, ent.start-5) : ent.start ].text.lower()\n",
        "            negated = any(cue in window for cue in NEG_CUES)\n",
        "            results.append({\n",
        "                \"text\": ent.text,\n",
        "                \"label\": ent.label_,\n",
        "                \"start\": ent.start_char,\n",
        "                \"end\": ent.end_char,\n",
        "                \"negated\": negated\n",
        "            })\n",
        "    return results"
      ],
      "metadata": {
        "id": "EuTYbBNO-gqW"
      },
      "execution_count": 17,
      "outputs": []
    },
    {
      "cell_type": "code",
      "source": [
        "def link_med_dose(doc, max_window=8):\n",
        "    pairs = []\n",
        "    meds = [e for e in doc.ents if e.label_==\"MEDICAMENTO\"]\n",
        "    doses = [e for e in doc.ents if e.label_==\"DOSIS\"]\n",
        "    freqs = [e for e in doc.ents if e.label_==\"FRECUENCIA\"]\n",
        "    for med in meds:\n",
        "        # choose nearest dose in same sentence within window\n",
        "        cand = [(dose, abs(dose.start - med.start)) for dose in doses if dose.sent == med.sent and abs(dose.start - med.start) <= max_window]\n",
        "        if cand:\n",
        "            dose = sorted(cand, key=lambda x: x[1])[0][0]\n",
        "            # optional: attach nearest frequency cue\n",
        "            f_cand = [(f, abs(f.start - med.start)) for f in freqs if f.sent == med.sent and abs(f.start - med.start) <= max_window]\n",
        "            freq = sorted(f_cand, key=lambda x: x[1])[0][0].text if f_cand else \"\"\n",
        "            ctx = med.sent.text\n",
        "            pairs.append((med.text, dose.text, freq or \"\"))\n",
        "    return pairs"
      ],
      "metadata": {
        "id": "1eUFgsoH-lCE"
      },
      "execution_count": 18,
      "outputs": []
    },
    {
      "cell_type": "code",
      "source": [
        "for i, txt in enumerate(emr, 1):\n",
        "    doc = nlp(txt)\n",
        "    neg = detect_negation(doc,NEG_CUES)\n",
        "    rel = link_med_dose(doc)\n",
        "\n",
        "    print(f\"\\n=== DOC {i} ===\")\n",
        "    print(\"Negation over symptoms/findings:\")\n",
        "    for x in neg:\n",
        "        flag = \"NEGADO\" if x[\"negated\"] else \"AFIRMADO\"\n",
        "        print(f\"  - {x['text']} ({x['label']}) → {flag}\")\n",
        "\n",
        "    print(\"\\nMedication–Dose(–Freq) pairs:\")\n",
        "    for med, dose, freq in rel:\n",
        "        print(f\"  - {med} ↔ {dose}\" + (f\" ↔ {freq}\" if freq else \"\"))"
      ],
      "metadata": {
        "colab": {
          "base_uri": "https://localhost:8080/"
        },
        "id": "jj4uWNRT-m6y",
        "outputId": "63bbde7e-7127-49f9-e16b-cc821e36c939"
      },
      "execution_count": 19,
      "outputs": [
        {
          "output_type": "stream",
          "name": "stdout",
          "text": [
            "\n",
            "=== DOC 1 ===\n",
            "Negation over symptoms/findings:\n",
            "  - fiebre (SINTOMA) → NEGADO\n",
            "  - dolor (SINTOMA) → AFIRMADO\n",
            "  - disnea (SINTOMA) → AFIRMADO\n",
            "  - crepitantes (HALLAZGO) → AFIRMADO\n",
            "\n",
            "Medication–Dose(–Freq) pairs:\n",
            "  - paracetamol ↔ 500 mg ↔ cada\n",
            "\n",
            "=== DOC 2 ===\n",
            "Negation over symptoms/findings:\n",
            "  - tos (SINTOMA) → NEGADO\n",
            "  - cefalea (SINTOMA) → NEGADO\n",
            "  - Dolor (SINTOMA) → AFIRMADO\n",
            "  - vómito (SINTOMA) → NEGADO\n",
            "\n",
            "Medication–Dose(–Freq) pairs:\n",
            "  - metformina ↔ 850 mg ↔ veces al día\n",
            "  - Amoxicilina ↔ 500 mg\n",
            "\n",
            "=== DOC 3 ===\n",
            "Negation over symptoms/findings:\n",
            "  - Faringitis (SINTOMA) → AFIRMADO\n",
            "  - disnea (SINTOMA) → NEGADO\n",
            "  - fiebre (SINTOMA) → NEGADO\n",
            "  - Dolor (SINTOMA) → AFIRMADO\n",
            "  - adenopatías (SINTOMA) → AFIRMADO\n",
            "\n",
            "Medication–Dose(–Freq) pairs:\n",
            "  - ibuprofeno ↔ 400mg ↔ cada\n"
          ]
        }
      ]
    },
    {
      "cell_type": "markdown",
      "source": [
        "# Building a **Named Entity Recognition (NER)** system with Transformers\n",
        "\n",
        "## Spanish BERT-based model from Huggingface"
      ],
      "metadata": {
        "id": "fpafTpYD-3Qa"
      }
    },
    {
      "cell_type": "code",
      "source": [
        "!pip -q install transformers torch accelerate"
      ],
      "metadata": {
        "id": "Iuw2U-yI-ti0"
      },
      "execution_count": 20,
      "outputs": []
    },
    {
      "cell_type": "markdown",
      "source": [
        "## Load the model"
      ],
      "metadata": {
        "id": "gKKYtCRN_Les"
      }
    },
    {
      "cell_type": "code",
      "source": [
        "from transformers import pipeline\n",
        "\n",
        "pipe = pipeline(\"token-classification\", model=\"lcampillos/roberta-es-clinical-trials-ner\")\n"
      ],
      "metadata": {
        "colab": {
          "base_uri": "https://localhost:8080/",
          "height": 258,
          "referenced_widgets": [
            "ac1dbc5a12594841b9a17f63772a84eb",
            "277d8c228a9d4e7ab429c4a5f0953254",
            "e706c97a20a44c4abb0657a4c0da46ff",
            "a4b35f6dcf4f47688e129040fa763092",
            "7211823330714abca113c4d5f3e13d39",
            "1f3bcf97e38145c0910c03060d7d0c95",
            "838de6198e1d4c1eb492a69dc51ba17f",
            "e356a0adb12147bd9304ef13b12aee14",
            "64ca15e4e7e8429c9b6128e6b4822f40",
            "1abfed77ce3a4b29928e6c9e62ab92b9",
            "99a1651d15794f088335892eebc63e8c",
            "62b250e39cb74156a3e7882c7576afe8",
            "50d98b9d38cd4155a6c9d9dbdf2c417a",
            "051687d4fe2e496787742863383c1506",
            "de2847a7c97d49be8497577963e1674f",
            "3bb7f4100a124180a1052f460adf2ed2",
            "e19188eb7bae4869993ac4fab7ea3ce8",
            "1335678b3fcd4acb868f13387b88e6ba",
            "138d21417d5547369058b87ba14f84d6",
            "a59ecc1b85fd43c5b429efb048a9013f",
            "68093be3710946678f269efe2faa0191",
            "781907bcae324453870d133aa2e6f0b8",
            "2b470dacdae04756bc282d8178593331",
            "8eb375563c1547a2962a4a0c5649582e",
            "d5c9696ee642463e9b47dcf5cb1287c0",
            "f886818514be42999e34f01ff311e8f1",
            "c2652ff1e1a24c258426acbb51ffc79a",
            "f436109ac3c84df29748967dc896ee18",
            "553d90ba5276498fa860e22c8f783993",
            "b1f38002e6304422a9ccb63ab76146f9",
            "cc9fd324e3794adc8abaaa8b6a922c7b",
            "46f1692ae80747e1baba4b8e98f73854",
            "ebc1c732df994f36a5ee5b47443f07d9",
            "85a008d57d6f438aa4d18ad5e0164e7b",
            "fad81f2569ee4acdac4038e2dcc1802a",
            "9e15907df105442ca3dd4a328349874e",
            "d298dd5cf9444cdabff8c2f8ed785e87",
            "dc30b2bfd87b48f5bdf660c32177fa61",
            "15136fbd5d6f49d69e5065b3b4d8f8ad",
            "b9996257393444369da994cbfb616fbf",
            "609e4c7ff67d41cbb040b1e6348e5451",
            "162f3bd36ddc48c2bf0b98c8ade53b04",
            "a8a016718df949fa8a35c32dfea46341",
            "ce9acda46aff43908d5992b658bf04ac",
            "b46639dbb227459fa3e269779b4d2420",
            "128c364f54594cdeb427be6c9e8b240b",
            "151ace296ee1412db8fba498a41a0319",
            "7ff7282804b74087b7d521c0db7100e6",
            "db43af87eeec4ac181801a2707fbe4e7",
            "9a63b812907448df9dd9a8867267b015",
            "953ac68862e9469c84651ea413753cf8",
            "3d27118b19394f818b75de98f1f579ad",
            "e7d4da12b93141e990f53274395128b4",
            "da46c5ef5d684474b9aa68b721f9583e",
            "b4a03d91e7d740d3912a3aac94f6b583",
            "3be455ce592a4e9a8348f006fafb8ca2",
            "0a966fda79834ec5976ef05da6957deb",
            "4e6df1bfc1d14ec38423fa7a3377b6b3",
            "255ae23a68e24f1bb43acb618c43d36f",
            "ebf64f0f3bc74824ad22e3b4931b9a85",
            "834594ba86f44542a03d409636bda517",
            "d716aaca92c04bc485fc292658944bd3",
            "c9391efab6e34a6f8e7225332ed82bde",
            "e8e83da2e8824a8dbc46e91a5890b18c",
            "1a5a764299b34ce0951135f0fdcec031",
            "d2e637ff26334ce29f222630a6f48048",
            "28bfc85fd89043f784f3f684e2a24639",
            "f5c948b0c37f410ab9eab2cac7f56acb",
            "ad1e6751bc25424a932c2fe718373ea0",
            "b7984a41666848e18305dd3efd2c53bc",
            "562bc275404641c8b207f368c2158a7e",
            "9ed75019d2864906ac46cebf0a77ff12",
            "6a725c7fdb594358937401914fb97ff8",
            "86c4fe5e829f41f3b74efe9cb46eb62a",
            "f9d6355ad1f2419292aac0141f8190df",
            "d5bf619aa3034c14bc2fdf8102f9b752",
            "7a293dd6f07f48b2bdbece224a61a40f"
          ]
        },
        "id": "e3pHvgNt_IxE",
        "outputId": "54a0179c-6651-4878-8272-d3021adffbde"
      },
      "execution_count": 21,
      "outputs": [
        {
          "output_type": "display_data",
          "data": {
            "text/plain": [
              "config.json: 0.00B [00:00, ?B/s]"
            ],
            "application/vnd.jupyter.widget-view+json": {
              "version_major": 2,
              "version_minor": 0,
              "model_id": "ac1dbc5a12594841b9a17f63772a84eb"
            }
          },
          "metadata": {}
        },
        {
          "output_type": "display_data",
          "data": {
            "text/plain": [
              "model.safetensors:   0%|          | 0.00/496M [00:00<?, ?B/s]"
            ],
            "application/vnd.jupyter.widget-view+json": {
              "version_major": 2,
              "version_minor": 0,
              "model_id": "62b250e39cb74156a3e7882c7576afe8"
            }
          },
          "metadata": {}
        },
        {
          "output_type": "display_data",
          "data": {
            "text/plain": [
              "tokenizer_config.json: 0.00B [00:00, ?B/s]"
            ],
            "application/vnd.jupyter.widget-view+json": {
              "version_major": 2,
              "version_minor": 0,
              "model_id": "2b470dacdae04756bc282d8178593331"
            }
          },
          "metadata": {}
        },
        {
          "output_type": "display_data",
          "data": {
            "text/plain": [
              "vocab.json: 0.00B [00:00, ?B/s]"
            ],
            "application/vnd.jupyter.widget-view+json": {
              "version_major": 2,
              "version_minor": 0,
              "model_id": "85a008d57d6f438aa4d18ad5e0164e7b"
            }
          },
          "metadata": {}
        },
        {
          "output_type": "display_data",
          "data": {
            "text/plain": [
              "merges.txt: 0.00B [00:00, ?B/s]"
            ],
            "application/vnd.jupyter.widget-view+json": {
              "version_major": 2,
              "version_minor": 0,
              "model_id": "b46639dbb227459fa3e269779b4d2420"
            }
          },
          "metadata": {}
        },
        {
          "output_type": "display_data",
          "data": {
            "text/plain": [
              "tokenizer.json: 0.00B [00:00, ?B/s]"
            ],
            "application/vnd.jupyter.widget-view+json": {
              "version_major": 2,
              "version_minor": 0,
              "model_id": "3be455ce592a4e9a8348f006fafb8ca2"
            }
          },
          "metadata": {}
        },
        {
          "output_type": "display_data",
          "data": {
            "text/plain": [
              "special_tokens_map.json:   0%|          | 0.00/772 [00:00<?, ?B/s]"
            ],
            "application/vnd.jupyter.widget-view+json": {
              "version_major": 2,
              "version_minor": 0,
              "model_id": "28bfc85fd89043f784f3f684e2a24639"
            }
          },
          "metadata": {}
        },
        {
          "output_type": "stream",
          "name": "stderr",
          "text": [
            "Device set to use cpu\n"
          ]
        }
      ]
    },
    {
      "cell_type": "code",
      "source": [
        "for i, txt in enumerate(emr, 1):\n",
        "  print(f\"\\n=== DOC {i} ===\")\n",
        "  results = pipe(txt)\n",
        "  for ent in results:\n",
        "    text = ent[\"word\"].replace('Ġ','')\n",
        "    text = text.replace('Ã¡','á')\n",
        "    text = text.replace('Ã³','ó')\n",
        "    text = text.replace('ÃŃ','ó')\n",
        "    print(f\"{text:<15} → {ent['entity'].split('-')[1]}\")"
      ],
      "metadata": {
        "colab": {
          "base_uri": "https://localhost:8080/"
        },
        "id": "EDkXgaYo_Ogv",
        "outputId": "172ff349-99c3-4cc1-8517-713586dd0bf2"
      },
      "execution_count": 23,
      "outputs": [
        {
          "output_type": "stream",
          "name": "stdout",
          "text": [
            "\n",
            "=== DOC 1 ===\n",
            "fiebre          → DISO\n",
            "dolor           → DISO\n",
            "torácico        → DISO\n",
            "disnea          → DISO\n",
            "paracetamol     → CHEM\n",
            "crepitantes     → DISO\n",
            "base            → ANAT\n",
            "pulmonar        → ANAT\n",
            "\n",
            "=== DOC 2 ===\n",
            "DM              → DISO\n",
            "2               → DISO\n",
            "tos             → DISO\n",
            "cefalea         → DISO\n",
            "metformina      → CHEM\n",
            "850             → CHEM\n",
            "Dolor           → DISO\n",
            "abdominal       → DISO\n",
            "vómito          → DISO\n",
            "Amoxicilina     → CHEM\n",
            "500             → CHEM\n",
            "\n",
            "=== DOC 3 ===\n",
            "Far             → DISO\n",
            "ingitis         → DISO\n",
            "ibuprofeno      → CHEM\n",
            "disnea          → DISO\n",
            "fiebre          → DISO\n",
            "Dolor           → DISO\n",
            "en              → DISO\n",
            "garganta        → DISO\n",
            "adenopatóas     → DISO\n",
            "cervicales      → DISO\n"
          ]
        }
      ]
    },
    {
      "cell_type": "markdown",
      "source": [
        "# Using **Large Language Models (LLMs)** with **Google Gemini**"
      ],
      "metadata": {
        "id": "BZh86pxJB96f"
      }
    },
    {
      "cell_type": "code",
      "source": [
        "from google.colab import userdata\n",
        "from google import genai"
      ],
      "metadata": {
        "id": "oCHgvMJxBU7h"
      },
      "execution_count": 24,
      "outputs": []
    },
    {
      "cell_type": "code",
      "source": [
        "import os\n",
        "os.environ[\"GEMINI_API_KEY\"] = \"YOUR_API_KEY\"\n",
        "\n",
        "# The client gets the API key from the environment variable `GEMINI_API_KEY`.\n",
        "#client = genai.Client(api_key=userdata.get('gemini_key'))\n",
        "client = genai.Client(api_key=\"YOUR_API_KEY\")"
      ],
      "metadata": {
        "id": "9EHMRjOCCL-V"
      },
      "execution_count": 26,
      "outputs": []
    },
    {
      "cell_type": "code",
      "source": [
        "# Poner prompt en Español\n",
        "context = \"\"\"Given the following texts, return medical entities you could find, classify them in 4 semantic groups:\n",
        "  ANAT: body parts and anatomy (e.g. garganta, 'throat')\n",
        "  CHEM: chemical entities and pharmacological substances (e.g. aspirina,'aspirin')\n",
        "  DISO: pathologic conditions (e.g. dolor, 'pain')\n",
        "  PROC: diagnostic and therapeutic procedures, laboratory analyses and medical research activities (e.g. cirugía, 'surgery')\"\"\"\n",
        "\n",
        "# Algunas configuraciones\n",
        "safety_settings = [{\"category\": \"HARM_CATEGORY_DANGEROUS\", \"threshold\": \"BLOCK_NONE\"},\n",
        "    {\"category\": \"HARM_CATEGORY_HARASSMENT\", \"threshold\": \"BLOCK_NONE\"},\n",
        "    {\"category\": \"HARM_CATEGORY_HATE_SPEECH\", \"threshold\": \"BLOCK_NONE\"},\n",
        "    {\"category\": \"HARM_CATEGORY_SEXUALLY_EXPLICIT\", \"threshold\": \"BLOCK_NONE\"},\n",
        "    {\"category\": \"HARM_CATEGORY_DANGEROUS_CONTENT\", \"threshold\": \"BLOCK_NONE\"}]\n"
      ],
      "metadata": {
        "id": "ZIcUQWo6C2YQ"
      },
      "execution_count": 27,
      "outputs": []
    },
    {
      "cell_type": "code",
      "source": [
        "for txt in emr:\n",
        "  response = client.models.generate_content(\n",
        "      model=\"gemini-2.5-flash\",\n",
        "      contents=context + '\\n' + txt\n",
        "  )\n",
        "  print('\\n\\n' + response.text)"
      ],
      "metadata": {
        "colab": {
          "base_uri": "https://localhost:8080/"
        },
        "id": "JmaCm3scDKrN",
        "outputId": "b05f67a2-6714-4c19-b0c9-4512e676caff"
      },
      "execution_count": 28,
      "outputs": [
        {
          "output_type": "stream",
          "name": "stdout",
          "text": [
            "\n",
            "\n",
            "Here are the medical entities found in the text, classified into the specified semantic groups:\n",
            "\n",
            "*   **ANAT**:\n",
            "    *   base pulmonar (lung base)\n",
            "*   **CHEM**:\n",
            "    *   paracetamol\n",
            "*   **DISO**:\n",
            "    *   fiebre (fever)\n",
            "    *   dolor torácico (chest pain)\n",
            "    *   disnea (dyspnea)\n",
            "    *   crepitantes (crackles/crepitations)\n",
            "*   **PROC**:\n",
            "    *   Examen (examination)\n",
            "\n",
            "\n",
            "Here are the medical entities found in the texts, classified into the specified semantic groups:\n",
            "\n",
            "*   **ANAT**:\n",
            "    *   (None found)\n",
            "*   **CHEM**:\n",
            "    *   metformina\n",
            "    *   Amoxicilina\n",
            "*   **DISO**:\n",
            "    *   DM2 (Diabetes Mellitus tipo 2)\n",
            "    *   tos\n",
            "    *   cefalea\n",
            "    *   Dolor abdominal\n",
            "    *   vómito\n",
            "*   **PROC**:\n",
            "    *   (None found)\n",
            "\n",
            "\n",
            "Here are the medical entities found in the text, classified into the specified semantic groups:\n",
            "\n",
            "**ANAT:**\n",
            "*   garganta (throat)\n",
            "\n",
            "**CHEM:**\n",
            "*   ibuprofeno (ibuprofen)\n",
            "\n",
            "**DISO:**\n",
            "*   Faringitis (Pharyngitis)\n",
            "*   disnea (dyspnea)\n",
            "*   fiebre (fever)\n",
            "*   Dolor (pain)\n",
            "*   adenopatías cervicales (cervical lymphadenopathy / swollen cervical lymph nodes)\n",
            "\n",
            "**PROC:**\n",
            "*   (None found)\n"
          ]
        }
      ]
    },
    {
      "cell_type": "code",
      "source": [],
      "metadata": {
        "id": "PZCzeDhkDOlf"
      },
      "execution_count": null,
      "outputs": []
    }
  ]
}